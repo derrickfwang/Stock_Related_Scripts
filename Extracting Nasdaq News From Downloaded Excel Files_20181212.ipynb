{
 "cells": [
  {
   "cell_type": "code",
   "execution_count": 72,
   "metadata": {
    "collapsed": true
   },
   "outputs": [],
   "source": [
    "import os\n",
    "os.chdir(r'C:\\Users\\Derrick\\Documents\\Scripts\\Python\\StockRelated\\NasdaqNews')"
   ]
  },
  {
   "cell_type": "code",
   "execution_count": 73,
   "metadata": {
    "collapsed": false
   },
   "outputs": [],
   "source": [
    "path = os.getcwd()\n",
    "FileList = os.listdir(path)"
   ]
  },
  {
   "cell_type": "code",
   "execution_count": 99,
   "metadata": {
    "collapsed": false
   },
   "outputs": [
    {
     "data": {
      "text/plain": [
       "633"
      ]
     },
     "execution_count": 99,
     "metadata": {},
     "output_type": "execute_result"
    }
   ],
   "source": [
    "len(FileList)"
   ]
  },
  {
   "cell_type": "code",
   "execution_count": 75,
   "metadata": {
    "collapsed": false
   },
   "outputs": [],
   "source": [
    "import pandas as pd\n",
    "Tickers = pd.DataFrame(FileList, columns = ['FileName'])"
   ]
  },
  {
   "cell_type": "code",
   "execution_count": 76,
   "metadata": {
    "collapsed": false
   },
   "outputs": [],
   "source": [
    "import numpy as np\n",
    "Tickers['Ticker'] = np.NaN\n",
    "Tickers['ExtractDate'] = np.NaN\n",
    "Tickers[['Ticker','ExtractDate']] = Tickers['FileName'].str.split('_', expand=True)\n",
    "\n",
    "Tickers['Ticker'] = Tickers['Ticker'].str.replace('NewsForNLP','')\n",
    "Tickers['ExtractDate'] = Tickers['ExtractDate'].str.replace('.xlsx','')"
   ]
  },
  {
   "cell_type": "code",
   "execution_count": 77,
   "metadata": {
    "collapsed": false
   },
   "outputs": [
    {
     "data": {
      "text/html": [
       "<div>\n",
       "<table border=\"1\" class=\"dataframe\">\n",
       "  <thead>\n",
       "    <tr style=\"text-align: right;\">\n",
       "      <th></th>\n",
       "      <th>FileName</th>\n",
       "      <th>Ticker</th>\n",
       "      <th>ExtractDate</th>\n",
       "    </tr>\n",
       "  </thead>\n",
       "  <tbody>\n",
       "    <tr>\n",
       "      <th>0</th>\n",
       "      <td>AABANewsForNLP_20181211.xlsx</td>\n",
       "      <td>AABA</td>\n",
       "      <td>20181211</td>\n",
       "    </tr>\n",
       "    <tr>\n",
       "      <th>1</th>\n",
       "      <td>AANNewsForNLP_20181212.xlsx</td>\n",
       "      <td>AAN</td>\n",
       "      <td>20181212</td>\n",
       "    </tr>\n",
       "    <tr>\n",
       "      <th>2</th>\n",
       "      <td>AAOINewsForNLP_20181217.xlsx</td>\n",
       "      <td>AAOI</td>\n",
       "      <td>20181217</td>\n",
       "    </tr>\n",
       "    <tr>\n",
       "      <th>3</th>\n",
       "      <td>AAPLNewsForNLP_20181217.xlsx</td>\n",
       "      <td>AAPL</td>\n",
       "      <td>20181217</td>\n",
       "    </tr>\n",
       "    <tr>\n",
       "      <th>4</th>\n",
       "      <td>ACIANewsForNLP_20181212.xlsx</td>\n",
       "      <td>ACIA</td>\n",
       "      <td>20181212</td>\n",
       "    </tr>\n",
       "  </tbody>\n",
       "</table>\n",
       "</div>"
      ],
      "text/plain": [
       "                       FileName Ticker ExtractDate\n",
       "0  AABANewsForNLP_20181211.xlsx   AABA    20181211\n",
       "1   AANNewsForNLP_20181212.xlsx    AAN    20181212\n",
       "2  AAOINewsForNLP_20181217.xlsx   AAOI    20181217\n",
       "3  AAPLNewsForNLP_20181217.xlsx   AAPL    20181217\n",
       "4  ACIANewsForNLP_20181212.xlsx   ACIA    20181212"
      ]
     },
     "execution_count": 77,
     "metadata": {},
     "output_type": "execute_result"
    }
   ],
   "source": [
    "Tickers.head()"
   ]
  },
  {
   "cell_type": "code",
   "execution_count": 78,
   "metadata": {
    "collapsed": false
   },
   "outputs": [
    {
     "data": {
      "text/plain": [
       "CBLK    1\n",
       "EPAY    1\n",
       "EIGI    1\n",
       "ACY     1\n",
       "SAIC    1\n",
       "GSB     1\n",
       "INOV    1\n",
       "NETE    1\n",
       "MSTR    1\n",
       "NVEC    1\n",
       "APPF    1\n",
       "SIFY    1\n",
       "RP      1\n",
       "MODN    1\n",
       "SGMA    1\n",
       "PERI    1\n",
       "CLPS    1\n",
       "SPA     1\n",
       "MTEC    1\n",
       "OMCL    1\n",
       "DATA    1\n",
       "MJCO    1\n",
       "IPDN    1\n",
       "LECO    1\n",
       "NXPI    1\n",
       "SQNS    1\n",
       "DDD     1\n",
       "GILT    1\n",
       "FSNN    1\n",
       "PRFT    1\n",
       "       ..\n",
       "SXI     1\n",
       "PCYG    1\n",
       "ANY     1\n",
       "BNFT    1\n",
       "ZS      1\n",
       "JOBS    1\n",
       "TNC     1\n",
       "EVBG    1\n",
       "SPWR    1\n",
       "ZDGE    1\n",
       "FLEX    1\n",
       "BILI    1\n",
       "TRT     1\n",
       "FSLR    1\n",
       "JBL     1\n",
       "SCKT    1\n",
       "LIQT    1\n",
       "LXFT    1\n",
       "IMMR    1\n",
       "SOL     1\n",
       "ULTI    1\n",
       "MAXR    1\n",
       "EMAN    1\n",
       "COUP    1\n",
       "MPWR    1\n",
       "MRVL    1\n",
       "BRKS    1\n",
       "KLIC    1\n",
       "STAF    1\n",
       "SNPS    1\n",
       "Name: Ticker, dtype: int64"
      ]
     },
     "execution_count": 78,
     "metadata": {},
     "output_type": "execute_result"
    }
   ],
   "source": [
    "Tickers.Ticker.value_counts()"
   ]
  },
  {
   "cell_type": "code",
   "execution_count": 79,
   "metadata": {
    "collapsed": true
   },
   "outputs": [],
   "source": [
    "def getContent(fileName):\n",
    "    xl = pd.ExcelFile(fileName)\n",
    "    df = xl.parse(xl.sheet_names[0], skiprows=0)\n",
    "    df['PublishedDate'] = df['PublishedDT'].dt.date\n",
    "    df['PublishedTime'] = df['PublishedDT'].dt.time\n",
    "    df['PublishedWeekDay'] = df['PublishedDT'].dt.dayofweek   # 0 is Monday, 6 is Sunday\n",
    "    df['PublishedHour'] = df['PublishedDT'].dt.hour\n",
    "    return df[['PublishedDate','PublishedWeekDay', 'PublishedTime','PublishedHour','Title','TickerInTitle', 'TickerInContent']]"
   ]
  },
  {
   "cell_type": "code",
   "execution_count": 80,
   "metadata": {
    "collapsed": false
   },
   "outputs": [],
   "source": [
    "dfList = []\n",
    "for i in range(len(Tickers)):\n",
    "    FileName = Tickers['FileName'][i]\n",
    "    Ticker = Tickers['Ticker'][i]\n",
    "    ExtractDate = Tickers['ExtractDate'][i]\n",
    "    xldf = getContent(FileName)\n",
    "    xldf['FileName'] =FileName\n",
    "    xldf['Ticker'] =Ticker\n",
    "    xldf['ExtractDate'] =ExtractDate\n",
    "    dfList.append(xldf)"
   ]
  },
  {
   "cell_type": "code",
   "execution_count": 81,
   "metadata": {
    "collapsed": false
   },
   "outputs": [],
   "source": [
    "fnl = pd.concat(dfList, axis=0)"
   ]
  },
  {
   "cell_type": "code",
   "execution_count": 82,
   "metadata": {
    "collapsed": false
   },
   "outputs": [
    {
     "data": {
      "text/html": [
       "<div>\n",
       "<table border=\"1\" class=\"dataframe\">\n",
       "  <thead>\n",
       "    <tr style=\"text-align: right;\">\n",
       "      <th></th>\n",
       "      <th>PublishedDate</th>\n",
       "      <th>PublishedWeekDay</th>\n",
       "      <th>PublishedTime</th>\n",
       "      <th>PublishedHour</th>\n",
       "      <th>Title</th>\n",
       "      <th>TickerInTitle</th>\n",
       "      <th>TickerInContent</th>\n",
       "      <th>FileName</th>\n",
       "      <th>Ticker</th>\n",
       "      <th>ExtractDate</th>\n",
       "    </tr>\n",
       "  </thead>\n",
       "  <tbody>\n",
       "    <tr>\n",
       "      <th>0</th>\n",
       "      <td>2018-07-27</td>\n",
       "      <td>4.0</td>\n",
       "      <td>07:31:12</td>\n",
       "      <td>7.0</td>\n",
       "      <td>How Data Is Making The U.S. Stock Market Open ...</td>\n",
       "      <td>0</td>\n",
       "      <td>0</td>\n",
       "      <td>AABANewsForNLP_20181211.xlsx</td>\n",
       "      <td>AABA</td>\n",
       "      <td>20181211</td>\n",
       "    </tr>\n",
       "    <tr>\n",
       "      <th>1</th>\n",
       "      <td>2018-09-03</td>\n",
       "      <td>0.0</td>\n",
       "      <td>12:09:00</td>\n",
       "      <td>12.0</td>\n",
       "      <td>Is Altaba, Inc. a Buy?</td>\n",
       "      <td>0</td>\n",
       "      <td>1</td>\n",
       "      <td>AABANewsForNLP_20181211.xlsx</td>\n",
       "      <td>AABA</td>\n",
       "      <td>20181211</td>\n",
       "    </tr>\n",
       "    <tr>\n",
       "      <th>2</th>\n",
       "      <td>2018-09-17</td>\n",
       "      <td>0.0</td>\n",
       "      <td>12:54:00</td>\n",
       "      <td>12.0</td>\n",
       "      <td>Altaba settles cases related to 2014 Yahoo bre...</td>\n",
       "      <td>0</td>\n",
       "      <td>0</td>\n",
       "      <td>AABANewsForNLP_20181211.xlsx</td>\n",
       "      <td>AABA</td>\n",
       "      <td>20181211</td>\n",
       "    </tr>\n",
       "    <tr>\n",
       "      <th>3</th>\n",
       "      <td>2018-09-27</td>\n",
       "      <td>3.0</td>\n",
       "      <td>16:16:46</td>\n",
       "      <td>16.0</td>\n",
       "      <td>Interesting AABA Put And Call Options For Nove...</td>\n",
       "      <td>1</td>\n",
       "      <td>1</td>\n",
       "      <td>AABANewsForNLP_20181211.xlsx</td>\n",
       "      <td>AABA</td>\n",
       "      <td>20181211</td>\n",
       "    </tr>\n",
       "    <tr>\n",
       "      <th>4</th>\n",
       "      <td>2018-10-22</td>\n",
       "      <td>0.0</td>\n",
       "      <td>14:57:00</td>\n",
       "      <td>14.0</td>\n",
       "      <td>Altaba offers half a map to Naspers' future</td>\n",
       "      <td>0</td>\n",
       "      <td>0</td>\n",
       "      <td>AABANewsForNLP_20181211.xlsx</td>\n",
       "      <td>AABA</td>\n",
       "      <td>20181211</td>\n",
       "    </tr>\n",
       "  </tbody>\n",
       "</table>\n",
       "</div>"
      ],
      "text/plain": [
       "  PublishedDate  PublishedWeekDay PublishedTime  PublishedHour  \\\n",
       "0    2018-07-27               4.0      07:31:12            7.0   \n",
       "1    2018-09-03               0.0      12:09:00           12.0   \n",
       "2    2018-09-17               0.0      12:54:00           12.0   \n",
       "3    2018-09-27               3.0      16:16:46           16.0   \n",
       "4    2018-10-22               0.0      14:57:00           14.0   \n",
       "\n",
       "                                               Title  TickerInTitle  \\\n",
       "0  How Data Is Making The U.S. Stock Market Open ...              0   \n",
       "1                            Is Altaba, Inc. a Buy?               0   \n",
       "2  Altaba settles cases related to 2014 Yahoo bre...              0   \n",
       "3  Interesting AABA Put And Call Options For Nove...              1   \n",
       "4       Altaba offers half a map to Naspers' future               0   \n",
       "\n",
       "   TickerInContent                      FileName Ticker ExtractDate  \n",
       "0                0  AABANewsForNLP_20181211.xlsx   AABA    20181211  \n",
       "1                1  AABANewsForNLP_20181211.xlsx   AABA    20181211  \n",
       "2                0  AABANewsForNLP_20181211.xlsx   AABA    20181211  \n",
       "3                1  AABANewsForNLP_20181211.xlsx   AABA    20181211  \n",
       "4                0  AABANewsForNLP_20181211.xlsx   AABA    20181211  "
      ]
     },
     "execution_count": 82,
     "metadata": {},
     "output_type": "execute_result"
    }
   ],
   "source": [
    "fnl.head()"
   ]
  },
  {
   "cell_type": "code",
   "execution_count": 83,
   "metadata": {
    "collapsed": false
   },
   "outputs": [],
   "source": [
    "fnl = fnl[fnl['PublishedWeekDay'].notnull()].reset_index(drop=True)"
   ]
  },
  {
   "cell_type": "code",
   "execution_count": 84,
   "metadata": {
    "collapsed": true
   },
   "outputs": [],
   "source": [
    "fnl['PublishedWeekDay'] = fnl['PublishedWeekDay'].astype(int)\n",
    "fnl['PublishedHour'] = fnl['PublishedHour'].astype(int)\n"
   ]
  },
  {
   "cell_type": "markdown",
   "metadata": {},
   "source": [
    "# When News are published"
   ]
  },
  {
   "cell_type": "code",
   "execution_count": 85,
   "metadata": {
    "collapsed": false
   },
   "outputs": [],
   "source": [
    "deduped = fnl[['PublishedWeekDay','PublishedHour','Title']].drop_duplicates()"
   ]
  },
  {
   "cell_type": "code",
   "execution_count": 86,
   "metadata": {
    "collapsed": false
   },
   "outputs": [],
   "source": [
    "deduped.groupby(['PublishedWeekDay','PublishedHour']).count().unstack().to_csv('Result.csv', index=True)"
   ]
  },
  {
   "cell_type": "code",
   "execution_count": 87,
   "metadata": {
    "collapsed": true
   },
   "outputs": [],
   "source": [
    "import os\n",
    "os.chdir(r'C:\\Users\\Derrick\\Documents\\Scripts\\Python\\StockRelated')"
   ]
  },
  {
   "cell_type": "code",
   "execution_count": 89,
   "metadata": {
    "collapsed": false
   },
   "outputs": [],
   "source": [
    "deduped.groupby(['PublishedWeekDay','PublishedHour']).count().to_csv('Result1.csv', index=True)"
   ]
  },
  {
   "cell_type": "code",
   "execution_count": 90,
   "metadata": {
    "collapsed": false
   },
   "outputs": [
    {
     "data": {
      "text/html": [
       "<div>\n",
       "<table border=\"1\" class=\"dataframe\">\n",
       "  <thead>\n",
       "    <tr style=\"text-align: right;\">\n",
       "      <th></th>\n",
       "      <th>PublishedWeekDay</th>\n",
       "      <th>PublishedHour</th>\n",
       "      <th>Title</th>\n",
       "    </tr>\n",
       "  </thead>\n",
       "  <tbody>\n",
       "    <tr>\n",
       "      <th>0</th>\n",
       "      <td>4</td>\n",
       "      <td>7</td>\n",
       "      <td>How Data Is Making The U.S. Stock Market Open ...</td>\n",
       "    </tr>\n",
       "    <tr>\n",
       "      <th>1</th>\n",
       "      <td>0</td>\n",
       "      <td>12</td>\n",
       "      <td>Is Altaba, Inc. a Buy?</td>\n",
       "    </tr>\n",
       "    <tr>\n",
       "      <th>2</th>\n",
       "      <td>0</td>\n",
       "      <td>12</td>\n",
       "      <td>Altaba settles cases related to 2014 Yahoo bre...</td>\n",
       "    </tr>\n",
       "    <tr>\n",
       "      <th>3</th>\n",
       "      <td>3</td>\n",
       "      <td>16</td>\n",
       "      <td>Interesting AABA Put And Call Options For Nove...</td>\n",
       "    </tr>\n",
       "    <tr>\n",
       "      <th>4</th>\n",
       "      <td>0</td>\n",
       "      <td>14</td>\n",
       "      <td>Altaba offers half a map to Naspers' future</td>\n",
       "    </tr>\n",
       "  </tbody>\n",
       "</table>\n",
       "</div>"
      ],
      "text/plain": [
       "   PublishedWeekDay  PublishedHour  \\\n",
       "0                 4              7   \n",
       "1                 0             12   \n",
       "2                 0             12   \n",
       "3                 3             16   \n",
       "4                 0             14   \n",
       "\n",
       "                                               Title  \n",
       "0  How Data Is Making The U.S. Stock Market Open ...  \n",
       "1                            Is Altaba, Inc. a Buy?   \n",
       "2  Altaba settles cases related to 2014 Yahoo bre...  \n",
       "3  Interesting AABA Put And Call Options For Nove...  \n",
       "4       Altaba offers half a map to Naspers' future   "
      ]
     },
     "execution_count": 90,
     "metadata": {},
     "output_type": "execute_result"
    }
   ],
   "source": [
    "deduped.head()"
   ]
  },
  {
   "cell_type": "code",
   "execution_count": 91,
   "metadata": {
    "collapsed": false
   },
   "outputs": [
    {
     "data": {
      "text/plain": [
       "98742"
      ]
     },
     "execution_count": 91,
     "metadata": {},
     "output_type": "execute_result"
    }
   ],
   "source": [
    "len(deduped)"
   ]
  },
  {
   "cell_type": "code",
   "execution_count": 92,
   "metadata": {
    "collapsed": true
   },
   "outputs": [],
   "source": [
    "stats = deduped.groupby(['PublishedWeekDay','PublishedHour']).count()\n",
    "stats= stats.reset_index()"
   ]
  },
  {
   "cell_type": "code",
   "execution_count": 97,
   "metadata": {
    "collapsed": false
   },
   "outputs": [
    {
     "data": {
      "text/html": [
       "<div>\n",
       "<table border=\"1\" class=\"dataframe\">\n",
       "  <thead>\n",
       "    <tr style=\"text-align: right;\">\n",
       "      <th></th>\n",
       "      <th>PublishedWeekDay</th>\n",
       "      <th>PublishedHour</th>\n",
       "      <th>Count</th>\n",
       "    </tr>\n",
       "  </thead>\n",
       "  <tbody>\n",
       "    <tr>\n",
       "      <th>0</th>\n",
       "      <td>0</td>\n",
       "      <td>6</td>\n",
       "      <td>1279</td>\n",
       "    </tr>\n",
       "    <tr>\n",
       "      <th>1</th>\n",
       "      <td>0</td>\n",
       "      <td>7</td>\n",
       "      <td>1093</td>\n",
       "    </tr>\n",
       "    <tr>\n",
       "      <th>2</th>\n",
       "      <td>0</td>\n",
       "      <td>8</td>\n",
       "      <td>1350</td>\n",
       "    </tr>\n",
       "    <tr>\n",
       "      <th>3</th>\n",
       "      <td>0</td>\n",
       "      <td>9</td>\n",
       "      <td>1413</td>\n",
       "    </tr>\n",
       "    <tr>\n",
       "      <th>4</th>\n",
       "      <td>0</td>\n",
       "      <td>10</td>\n",
       "      <td>726</td>\n",
       "    </tr>\n",
       "  </tbody>\n",
       "</table>\n",
       "</div>"
      ],
      "text/plain": [
       "   PublishedWeekDay  PublishedHour  Count\n",
       "0                 0              6   1279\n",
       "1                 0              7   1093\n",
       "2                 0              8   1350\n",
       "3                 0              9   1413\n",
       "4                 0             10    726"
      ]
     },
     "execution_count": 97,
     "metadata": {},
     "output_type": "execute_result"
    }
   ],
   "source": [
    "stats = stats.rename(columns={'Title':'Count'})\n",
    "stats.head()"
   ]
  },
  {
   "cell_type": "code",
   "execution_count": 98,
   "metadata": {
    "collapsed": false,
    "scrolled": false
   },
   "outputs": [
    {
     "data": {
      "text/plain": [
       "PublishedWeekDay\n",
       "0    AxesSubplot(0.125,0.125;0.775x0.755)\n",
       "1    AxesSubplot(0.125,0.125;0.775x0.755)\n",
       "2    AxesSubplot(0.125,0.125;0.775x0.755)\n",
       "3    AxesSubplot(0.125,0.125;0.775x0.755)\n",
       "4    AxesSubplot(0.125,0.125;0.775x0.755)\n",
       "5    AxesSubplot(0.125,0.125;0.775x0.755)\n",
       "6    AxesSubplot(0.125,0.125;0.775x0.755)\n",
       "Name: Count, dtype: object"
      ]
     },
     "execution_count": 98,
     "metadata": {},
     "output_type": "execute_result"
    },
    {
     "data": {
      "image/png": "[encoded data removed]",
      "text/plain": [
       "<matplotlib.figure.Figure at 0xc66c52bac8>"
      ]
     },
     "metadata": {},
     "output_type": "display_data"
    }
   ],
   "source": [
    "%matplotlib inline\n",
    "dfs = stats[['PublishedWeekDay','PublishedHour','Count']].set_index('PublishedHour')\n",
    "dfs.groupby('PublishedWeekDay')['Count'].plot(legend=True)"
   ]
  },
  {
   "cell_type": "markdown",
   "metadata": {},
   "source": [
    "# Things to do\n",
    "### 1. News-Stock network in Neo4j, color by sector\n",
    "### 2. News publish timing (hours, weekday?) vs Close/Open or Close/Close up or down\n",
    "### 3. Positive news vs Negative News sentiment analysis\n",
    "### 4. Alert system"
   ]
  },
  {
   "cell_type": "code",
   "execution_count": null,
   "metadata": {
    "collapsed": true
   },
   "outputs": [],
   "source": []
  }
 ],
 "metadata": {
  "anaconda-cloud": {},
  "kernelspec": {
   "display_name": "Python [default]",
   "language": "python",
   "name": "python3"
  },
  "language_info": {
   "codemirror_mode": {
    "name": "ipython",
    "version": 3
   },
   "file_extension": ".py",
   "mimetype": "text/x-python",
   "name": "python",
   "nbconvert_exporter": "python",
   "pygments_lexer": "ipython3",
   "version": "3.5.2"
  }
 },
 "nbformat": 4,
 "nbformat_minor": 1
}
