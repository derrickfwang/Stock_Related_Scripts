{
 "cells": [
  {
   "cell_type": "markdown",
   "metadata": {},
   "source": [
    "## The purpose of this part is to investigate length and extent of market reaction on News"
   ]
  },
  {
   "cell_type": "markdown",
   "metadata": {},
   "source": [
    "### 1. When are the news published"
   ]
  },
  {
   "cell_type": "code",
   "execution_count": 1,
   "metadata": {
    "collapsed": true
   },
   "outputs": [],
   "source": [
    "import pandas as pd\n",
    "import os\n",
    "os.chdir(r'C:\\Users\\Derrick\\Documents\\Scripts\\Python\\StockRelated')"
   ]
  },
  {
   "cell_type": "code",
   "execution_count": 2,
   "metadata": {
    "collapsed": false
   },
   "outputs": [
    {
     "data": {
      "text/html": [
       "<div>\n",
       "<table border=\"1\" class=\"dataframe\">\n",
       "  <thead>\n",
       "    <tr style=\"text-align: right;\">\n",
       "      <th></th>\n",
       "      <th>﻿Ticker</th>\n",
       "      <th>PublishedDate</th>\n",
       "      <th>PublishedWeekDay</th>\n",
       "      <th>PublishedTime</th>\n",
       "      <th>PublishedHour</th>\n",
       "      <th>Title</th>\n",
       "      <th>TickerInTitle</th>\n",
       "      <th>TickerInContent</th>\n",
       "    </tr>\n",
       "  </thead>\n",
       "  <tbody>\n",
       "    <tr>\n",
       "      <th>0</th>\n",
       "      <td>AABA</td>\n",
       "      <td>2018-07-27</td>\n",
       "      <td>4</td>\n",
       "      <td>07:31:12</td>\n",
       "      <td>7</td>\n",
       "      <td>How Data Is Making The U.S. Stock Market Open ...</td>\n",
       "      <td>0</td>\n",
       "      <td>0</td>\n",
       "    </tr>\n",
       "  </tbody>\n",
       "</table>\n",
       "</div>"
      ],
      "text/plain": [
       "  ﻿Ticker PublishedDate  PublishedWeekDay PublishedTime  PublishedHour  \\\n",
       "0    AABA    2018-07-27                 4      07:31:12              7   \n",
       "\n",
       "                                               Title  TickerInTitle  \\\n",
       "0  How Data Is Making The U.S. Stock Market Open ...              0   \n",
       "\n",
       "   TickerInContent  \n",
       "0                0  "
      ]
     },
     "execution_count": 2,
     "metadata": {},
     "output_type": "execute_result"
    }
   ],
   "source": [
    "newsData = pd.read_csv(r'CombinedText.csv')\n",
    "newsData.head(1)"
   ]
  },
  {
   "cell_type": "code",
   "execution_count": 3,
   "metadata": {
    "collapsed": false
   },
   "outputs": [
    {
     "data": {
      "text/plain": [
       "143894"
      ]
     },
     "execution_count": 3,
     "metadata": {},
     "output_type": "execute_result"
    }
   ],
   "source": [
    "len(newsData)"
   ]
  },
  {
   "cell_type": "code",
   "execution_count": 6,
   "metadata": {
    "collapsed": true
   },
   "outputs": [],
   "source": [
    "dedupNews = newsData[['Title','PublishedDate','PublishedTime', 'PublishedWeekDay',\n",
    "                     'PublishedHour']].drop_duplicates()"
   ]
  },
  {
   "cell_type": "code",
   "execution_count": 7,
   "metadata": {
    "collapsed": false
   },
   "outputs": [
    {
     "data": {
      "text/plain": [
       "101050"
      ]
     },
     "execution_count": 7,
     "metadata": {},
     "output_type": "execute_result"
    }
   ],
   "source": [
    "len(dedupNews)"
   ]
  },
  {
   "cell_type": "code",
   "execution_count": 11,
   "metadata": {
    "collapsed": false
   },
   "outputs": [],
   "source": [
    "whenPublished = dedupNews[['Title','PublishedWeekDay','PublishedHour']]. \\\n",
    "           groupby(['PublishedWeekDay','PublishedHour']).count().reset_index()"
   ]
  },
  {
   "cell_type": "code",
   "execution_count": 48,
   "metadata": {
    "collapsed": false
   },
   "outputs": [
    {
     "data": {
      "text/html": [
       "<div>\n",
       "<table border=\"1\" class=\"dataframe\">\n",
       "  <thead>\n",
       "    <tr style=\"text-align: right;\">\n",
       "      <th></th>\n",
       "      <th>PublishedWeekDay</th>\n",
       "      <th>PublishedHour</th>\n",
       "      <th>Title</th>\n",
       "    </tr>\n",
       "  </thead>\n",
       "  <tbody>\n",
       "    <tr>\n",
       "      <th>0</th>\n",
       "      <td>0</td>\n",
       "      <td>6</td>\n",
       "      <td>1304</td>\n",
       "    </tr>\n",
       "    <tr>\n",
       "      <th>1</th>\n",
       "      <td>0</td>\n",
       "      <td>7</td>\n",
       "      <td>1111</td>\n",
       "    </tr>\n",
       "    <tr>\n",
       "      <th>2</th>\n",
       "      <td>0</td>\n",
       "      <td>8</td>\n",
       "      <td>1374</td>\n",
       "    </tr>\n",
       "  </tbody>\n",
       "</table>\n",
       "</div>"
      ],
      "text/plain": [
       "   PublishedWeekDay  PublishedHour  Title\n",
       "0                 0              6   1304\n",
       "1                 0              7   1111\n",
       "2                 0              8   1374"
      ]
     },
     "execution_count": 48,
     "metadata": {},
     "output_type": "execute_result"
    }
   ],
   "source": [
    "whenPublished.head(3)"
   ]
  },
  {
   "cell_type": "code",
   "execution_count": 43,
   "metadata": {
    "collapsed": false
   },
   "outputs": [
    {
     "data": {
      "text/plain": [
       "Text(0,0.5,'Weekday')"
      ]
     },
     "execution_count": 43,
     "metadata": {},
     "output_type": "execute_result"
    },
    {
     "data": {
      "image/png": "[encoded data removed]",
      "text/plain": [
       "<matplotlib.figure.Figure at 0x48e201a518>"
      ]
     },
     "metadata": {},
     "output_type": "display_data"
    }
   ],
   "source": [
    "% matplotlib inline\n",
    "from matplotlib import pyplot as plt\n",
    "vls= newsData[['PublishedWeekDay', 'PublishedHour','Title']]. \\\n",
    "   groupby(['PublishedWeekDay', 'PublishedHour']).count(). \\\n",
    "    unstack()\n",
    "    \n",
    "fig, ax1 = plt.subplots(1,1, figsize=(10,12))\n",
    "\n",
    "ax1.imshow(vls, cmap='Reds',interpolation='nearest')  \n",
    "ax1.set_xticklabels(['',6,8,10,12,14,16])\n",
    "ax1.set_yticklabels(['',1,2,3,4,5,6,7])\n",
    "ax1.set_xlabel('Hour', fontsize=16)\n",
    "ax1.set_ylabel('Weekday', fontsize=16)"
   ]
  },
  {
   "cell_type": "code",
   "execution_count": 15,
   "metadata": {
    "collapsed": true
   },
   "outputs": [],
   "source": [
    "whenPublished.to_excel(r'whenPublished.xlsx', index=False)"
   ]
  },
  {
   "cell_type": "code",
   "execution_count": 49,
   "metadata": {
    "collapsed": false
   },
   "outputs": [
    {
     "data": {
      "text/html": [
       "<div>\n",
       "<table border=\"1\" class=\"dataframe\">\n",
       "  <thead>\n",
       "    <tr style=\"text-align: right;\">\n",
       "      <th>PublishedWeekDay</th>\n",
       "      <th>0</th>\n",
       "      <th>1</th>\n",
       "      <th>2</th>\n",
       "      <th>3</th>\n",
       "      <th>4</th>\n",
       "      <th>5</th>\n",
       "      <th>6</th>\n",
       "    </tr>\n",
       "    <tr>\n",
       "      <th>PublishedHour</th>\n",
       "      <th></th>\n",
       "      <th></th>\n",
       "      <th></th>\n",
       "      <th></th>\n",
       "      <th></th>\n",
       "      <th></th>\n",
       "      <th></th>\n",
       "    </tr>\n",
       "  </thead>\n",
       "  <tbody>\n",
       "    <tr>\n",
       "      <th>6</th>\n",
       "      <td>1304</td>\n",
       "      <td>1384</td>\n",
       "      <td>1382</td>\n",
       "      <td>1371</td>\n",
       "      <td>1366</td>\n",
       "      <td>102</td>\n",
       "      <td>84</td>\n",
       "    </tr>\n",
       "    <tr>\n",
       "      <th>7</th>\n",
       "      <td>1111</td>\n",
       "      <td>1336</td>\n",
       "      <td>1399</td>\n",
       "      <td>1405</td>\n",
       "      <td>997</td>\n",
       "      <td>117</td>\n",
       "      <td>79</td>\n",
       "    </tr>\n",
       "    <tr>\n",
       "      <th>8</th>\n",
       "      <td>1374</td>\n",
       "      <td>1644</td>\n",
       "      <td>1570</td>\n",
       "      <td>1662</td>\n",
       "      <td>1396</td>\n",
       "      <td>86</td>\n",
       "      <td>82</td>\n",
       "    </tr>\n",
       "    <tr>\n",
       "      <th>9</th>\n",
       "      <td>1426</td>\n",
       "      <td>1636</td>\n",
       "      <td>1581</td>\n",
       "      <td>1578</td>\n",
       "      <td>1633</td>\n",
       "      <td>127</td>\n",
       "      <td>54</td>\n",
       "    </tr>\n",
       "    <tr>\n",
       "      <th>10</th>\n",
       "      <td>742</td>\n",
       "      <td>904</td>\n",
       "      <td>852</td>\n",
       "      <td>916</td>\n",
       "      <td>730</td>\n",
       "      <td>80</td>\n",
       "      <td>75</td>\n",
       "    </tr>\n",
       "    <tr>\n",
       "      <th>11</th>\n",
       "      <td>744</td>\n",
       "      <td>1043</td>\n",
       "      <td>1024</td>\n",
       "      <td>964</td>\n",
       "      <td>772</td>\n",
       "      <td>65</td>\n",
       "      <td>109</td>\n",
       "    </tr>\n",
       "    <tr>\n",
       "      <th>12</th>\n",
       "      <td>870</td>\n",
       "      <td>1010</td>\n",
       "      <td>975</td>\n",
       "      <td>982</td>\n",
       "      <td>972</td>\n",
       "      <td>175</td>\n",
       "      <td>144</td>\n",
       "    </tr>\n",
       "    <tr>\n",
       "      <th>13</th>\n",
       "      <td>2350</td>\n",
       "      <td>2385</td>\n",
       "      <td>2442</td>\n",
       "      <td>2381</td>\n",
       "      <td>2417</td>\n",
       "      <td>201</td>\n",
       "      <td>144</td>\n",
       "    </tr>\n",
       "    <tr>\n",
       "      <th>14</th>\n",
       "      <td>3151</td>\n",
       "      <td>3440</td>\n",
       "      <td>3400</td>\n",
       "      <td>3208</td>\n",
       "      <td>3116</td>\n",
       "      <td>180</td>\n",
       "      <td>180</td>\n",
       "    </tr>\n",
       "    <tr>\n",
       "      <th>15</th>\n",
       "      <td>2299</td>\n",
       "      <td>2508</td>\n",
       "      <td>2553</td>\n",
       "      <td>2606</td>\n",
       "      <td>2461</td>\n",
       "      <td>173</td>\n",
       "      <td>202</td>\n",
       "    </tr>\n",
       "    <tr>\n",
       "      <th>16</th>\n",
       "      <td>1640</td>\n",
       "      <td>1910</td>\n",
       "      <td>1793</td>\n",
       "      <td>2054</td>\n",
       "      <td>1712</td>\n",
       "      <td>177</td>\n",
       "      <td>194</td>\n",
       "    </tr>\n",
       "    <tr>\n",
       "      <th>17</th>\n",
       "      <td>1147</td>\n",
       "      <td>1219</td>\n",
       "      <td>1255</td>\n",
       "      <td>1325</td>\n",
       "      <td>1233</td>\n",
       "      <td>83</td>\n",
       "      <td>77</td>\n",
       "    </tr>\n",
       "  </tbody>\n",
       "</table>\n",
       "</div>"
      ],
      "text/plain": [
       "PublishedWeekDay     0     1     2     3     4    5    6\n",
       "PublishedHour                                           \n",
       "6                 1304  1384  1382  1371  1366  102   84\n",
       "7                 1111  1336  1399  1405   997  117   79\n",
       "8                 1374  1644  1570  1662  1396   86   82\n",
       "9                 1426  1636  1581  1578  1633  127   54\n",
       "10                 742   904   852   916   730   80   75\n",
       "11                 744  1043  1024   964   772   65  109\n",
       "12                 870  1010   975   982   972  175  144\n",
       "13                2350  2385  2442  2381  2417  201  144\n",
       "14                3151  3440  3400  3208  3116  180  180\n",
       "15                2299  2508  2553  2606  2461  173  202\n",
       "16                1640  1910  1793  2054  1712  177  194\n",
       "17                1147  1219  1255  1325  1233   83   77"
      ]
     },
     "execution_count": 49,
     "metadata": {},
     "output_type": "execute_result"
    }
   ],
   "source": [
    "whenPublished1 = whenPublished.pivot(index='PublishedHour', columns='PublishedWeekDay', values='Title')\n",
    "whenPublished1"
   ]
  },
  {
   "cell_type": "code",
   "execution_count": 50,
   "metadata": {
    "collapsed": false
   },
   "outputs": [
    {
     "data": {
      "text/plain": [
       "<matplotlib.legend.Legend at 0x48e20dcc50>"
      ]
     },
     "execution_count": 50,
     "metadata": {},
     "output_type": "execute_result"
    },
    {
     "data": {
      "image/png": "[encoded data removed]",
      "text/plain": [
       "<matplotlib.figure.Figure at 0x48e2095f60>"
      ]
     },
     "metadata": {},
     "output_type": "display_data"
    }
   ],
   "source": [
    "whenPublished1.plot()\n",
    "plt.legend(loc='best')"
   ]
  },
  {
   "cell_type": "code",
   "execution_count": 56,
   "metadata": {
    "collapsed": false
   },
   "outputs": [],
   "source": [
    "dedupNews['PublishedYear'] = pd.to_datetime(dedupNews['PublishedDate']).dt.year"
   ]
  },
  {
   "cell_type": "code",
   "execution_count": 62,
   "metadata": {
    "collapsed": false
   },
   "outputs": [
    {
     "data": {
      "text/plain": [
       "<matplotlib.axes._subplots.AxesSubplot at 0x48e2125710>"
      ]
     },
     "execution_count": 62,
     "metadata": {},
     "output_type": "execute_result"
    },
    {
     "data": {
      "image/png": "[encoded data removed]",
      "text/plain": [
       "<matplotlib.figure.Figure at 0x48e22fbd30>"
      ]
     },
     "metadata": {},
     "output_type": "display_data"
    }
   ],
   "source": [
    "dedupNews['PublishedYear'].value_counts().plot.bar()"
   ]
  },
  {
   "cell_type": "code",
   "execution_count": 63,
   "metadata": {
    "collapsed": false
   },
   "outputs": [
    {
     "data": {
      "text/plain": [
       "<matplotlib.axes._subplots.AxesSubplot at 0x48e234ee48>"
      ]
     },
     "execution_count": 63,
     "metadata": {},
     "output_type": "execute_result"
    },
    {
     "data": {
      "image/png": "[encoded data removed]",
      "text/plain": [
       "<matplotlib.figure.Figure at 0x48e23316d8>"
      ]
     },
     "metadata": {},
     "output_type": "display_data"
    }
   ],
   "source": [
    "dedupNews['PublishedMonth'] = pd.to_datetime(dedupNews['PublishedDate']).dt.month\n",
    "dedupNews['PublishedMonth'].value_counts().plot.bar()"
   ]
  },
  {
   "cell_type": "code",
   "execution_count": 68,
   "metadata": {
    "collapsed": false
   },
   "outputs": [
    {
     "data": {
      "text/html": [
       "<div>\n",
       "<table border=\"1\" class=\"dataframe\">\n",
       "  <thead>\n",
       "    <tr>\n",
       "      <th></th>\n",
       "      <th colspan=\"12\" halign=\"left\">Title</th>\n",
       "    </tr>\n",
       "    <tr>\n",
       "      <th>PublishedMonth</th>\n",
       "      <th>1</th>\n",
       "      <th>2</th>\n",
       "      <th>3</th>\n",
       "      <th>4</th>\n",
       "      <th>5</th>\n",
       "      <th>6</th>\n",
       "      <th>7</th>\n",
       "      <th>8</th>\n",
       "      <th>9</th>\n",
       "      <th>10</th>\n",
       "      <th>11</th>\n",
       "      <th>12</th>\n",
       "    </tr>\n",
       "    <tr>\n",
       "      <th>PublishedYear</th>\n",
       "      <th></th>\n",
       "      <th></th>\n",
       "      <th></th>\n",
       "      <th></th>\n",
       "      <th></th>\n",
       "      <th></th>\n",
       "      <th></th>\n",
       "      <th></th>\n",
       "      <th></th>\n",
       "      <th></th>\n",
       "      <th></th>\n",
       "      <th></th>\n",
       "    </tr>\n",
       "  </thead>\n",
       "  <tbody>\n",
       "    <tr>\n",
       "      <th>2009</th>\n",
       "      <td>NaN</td>\n",
       "      <td>NaN</td>\n",
       "      <td>NaN</td>\n",
       "      <td>NaN</td>\n",
       "      <td>NaN</td>\n",
       "      <td>NaN</td>\n",
       "      <td>1.0</td>\n",
       "      <td>NaN</td>\n",
       "      <td>NaN</td>\n",
       "      <td>6.0</td>\n",
       "      <td>4.0</td>\n",
       "      <td>4.0</td>\n",
       "    </tr>\n",
       "    <tr>\n",
       "      <th>2010</th>\n",
       "      <td>3.0</td>\n",
       "      <td>23.0</td>\n",
       "      <td>11.0</td>\n",
       "      <td>29.0</td>\n",
       "      <td>29.0</td>\n",
       "      <td>44.0</td>\n",
       "      <td>41.0</td>\n",
       "      <td>42.0</td>\n",
       "      <td>48.0</td>\n",
       "      <td>60.0</td>\n",
       "      <td>56.0</td>\n",
       "      <td>53.0</td>\n",
       "    </tr>\n",
       "    <tr>\n",
       "      <th>2011</th>\n",
       "      <td>65.0</td>\n",
       "      <td>46.0</td>\n",
       "      <td>78.0</td>\n",
       "      <td>45.0</td>\n",
       "      <td>47.0</td>\n",
       "      <td>61.0</td>\n",
       "      <td>66.0</td>\n",
       "      <td>66.0</td>\n",
       "      <td>54.0</td>\n",
       "      <td>63.0</td>\n",
       "      <td>106.0</td>\n",
       "      <td>154.0</td>\n",
       "    </tr>\n",
       "    <tr>\n",
       "      <th>2012</th>\n",
       "      <td>163.0</td>\n",
       "      <td>153.0</td>\n",
       "      <td>171.0</td>\n",
       "      <td>206.0</td>\n",
       "      <td>272.0</td>\n",
       "      <td>201.0</td>\n",
       "      <td>235.0</td>\n",
       "      <td>223.0</td>\n",
       "      <td>206.0</td>\n",
       "      <td>289.0</td>\n",
       "      <td>282.0</td>\n",
       "      <td>264.0</td>\n",
       "    </tr>\n",
       "    <tr>\n",
       "      <th>2013</th>\n",
       "      <td>288.0</td>\n",
       "      <td>347.0</td>\n",
       "      <td>374.0</td>\n",
       "      <td>385.0</td>\n",
       "      <td>421.0</td>\n",
       "      <td>351.0</td>\n",
       "      <td>329.0</td>\n",
       "      <td>557.0</td>\n",
       "      <td>537.0</td>\n",
       "      <td>602.0</td>\n",
       "      <td>546.0</td>\n",
       "      <td>517.0</td>\n",
       "    </tr>\n",
       "    <tr>\n",
       "      <th>2014</th>\n",
       "      <td>582.0</td>\n",
       "      <td>642.0</td>\n",
       "      <td>702.0</td>\n",
       "      <td>732.0</td>\n",
       "      <td>805.0</td>\n",
       "      <td>664.0</td>\n",
       "      <td>789.0</td>\n",
       "      <td>782.0</td>\n",
       "      <td>715.0</td>\n",
       "      <td>892.0</td>\n",
       "      <td>700.0</td>\n",
       "      <td>658.0</td>\n",
       "    </tr>\n",
       "    <tr>\n",
       "      <th>2015</th>\n",
       "      <td>703.0</td>\n",
       "      <td>915.0</td>\n",
       "      <td>837.0</td>\n",
       "      <td>801.0</td>\n",
       "      <td>886.0</td>\n",
       "      <td>839.0</td>\n",
       "      <td>984.0</td>\n",
       "      <td>979.0</td>\n",
       "      <td>902.0</td>\n",
       "      <td>1059.0</td>\n",
       "      <td>1166.0</td>\n",
       "      <td>1020.0</td>\n",
       "    </tr>\n",
       "    <tr>\n",
       "      <th>2016</th>\n",
       "      <td>1016.0</td>\n",
       "      <td>1285.0</td>\n",
       "      <td>1133.0</td>\n",
       "      <td>1180.0</td>\n",
       "      <td>1204.0</td>\n",
       "      <td>1244.0</td>\n",
       "      <td>1254.0</td>\n",
       "      <td>1590.0</td>\n",
       "      <td>1290.0</td>\n",
       "      <td>1378.0</td>\n",
       "      <td>1589.0</td>\n",
       "      <td>1146.0</td>\n",
       "    </tr>\n",
       "    <tr>\n",
       "      <th>2017</th>\n",
       "      <td>1443.0</td>\n",
       "      <td>1684.0</td>\n",
       "      <td>1593.0</td>\n",
       "      <td>1559.0</td>\n",
       "      <td>2028.0</td>\n",
       "      <td>1676.0</td>\n",
       "      <td>1839.0</td>\n",
       "      <td>2281.0</td>\n",
       "      <td>1765.0</td>\n",
       "      <td>2346.0</td>\n",
       "      <td>2890.0</td>\n",
       "      <td>2088.0</td>\n",
       "    </tr>\n",
       "    <tr>\n",
       "      <th>2018</th>\n",
       "      <td>2563.0</td>\n",
       "      <td>2388.0</td>\n",
       "      <td>2202.0</td>\n",
       "      <td>2293.0</td>\n",
       "      <td>2703.0</td>\n",
       "      <td>2414.0</td>\n",
       "      <td>2547.0</td>\n",
       "      <td>3099.0</td>\n",
       "      <td>2968.0</td>\n",
       "      <td>4436.0</td>\n",
       "      <td>4293.0</td>\n",
       "      <td>1665.0</td>\n",
       "    </tr>\n",
       "  </tbody>\n",
       "</table>\n",
       "</div>"
      ],
      "text/plain": [
       "                 Title                                                  \\\n",
       "PublishedMonth      1       2       3       4       5       6       7    \n",
       "PublishedYear                                                            \n",
       "2009               NaN     NaN     NaN     NaN     NaN     NaN     1.0   \n",
       "2010               3.0    23.0    11.0    29.0    29.0    44.0    41.0   \n",
       "2011              65.0    46.0    78.0    45.0    47.0    61.0    66.0   \n",
       "2012             163.0   153.0   171.0   206.0   272.0   201.0   235.0   \n",
       "2013             288.0   347.0   374.0   385.0   421.0   351.0   329.0   \n",
       "2014             582.0   642.0   702.0   732.0   805.0   664.0   789.0   \n",
       "2015             703.0   915.0   837.0   801.0   886.0   839.0   984.0   \n",
       "2016            1016.0  1285.0  1133.0  1180.0  1204.0  1244.0  1254.0   \n",
       "2017            1443.0  1684.0  1593.0  1559.0  2028.0  1676.0  1839.0   \n",
       "2018            2563.0  2388.0  2202.0  2293.0  2703.0  2414.0  2547.0   \n",
       "\n",
       "                                                        \n",
       "PublishedMonth      8       9       10      11      12  \n",
       "PublishedYear                                           \n",
       "2009               NaN     NaN     6.0     4.0     4.0  \n",
       "2010              42.0    48.0    60.0    56.0    53.0  \n",
       "2011              66.0    54.0    63.0   106.0   154.0  \n",
       "2012             223.0   206.0   289.0   282.0   264.0  \n",
       "2013             557.0   537.0   602.0   546.0   517.0  \n",
       "2014             782.0   715.0   892.0   700.0   658.0  \n",
       "2015             979.0   902.0  1059.0  1166.0  1020.0  \n",
       "2016            1590.0  1290.0  1378.0  1589.0  1146.0  \n",
       "2017            2281.0  1765.0  2346.0  2890.0  2088.0  \n",
       "2018            3099.0  2968.0  4436.0  4293.0  1665.0  "
      ]
     },
     "execution_count": 68,
     "metadata": {},
     "output_type": "execute_result"
    }
   ],
   "source": [
    "yearMonth = dedupNews[['PublishedYear','PublishedMonth','Title']].groupby(['PublishedYear','PublishedMonth']).count().unstack()\n",
    "yearMonth"
   ]
  },
  {
   "cell_type": "code",
   "execution_count": 69,
   "metadata": {
    "collapsed": false
   },
   "outputs": [
    {
     "data": {
      "text/plain": [
       "<matplotlib.image.AxesImage at 0x48e02326d8>"
      ]
     },
     "execution_count": 69,
     "metadata": {},
     "output_type": "execute_result"
    },
    {
     "data": {
      "image/png": "[encoded data removed]",
      "text/plain": [
       "<matplotlib.figure.Figure at 0x48e23ba1d0>"
      ]
     },
     "metadata": {},
     "output_type": "display_data"
    }
   ],
   "source": [
    "plt.imshow(yearMonth, cmap='Reds',interpolation='nearest')  "
   ]
  },
  {
   "cell_type": "markdown",
   "metadata": {},
   "source": [
    "### 2. What happened on or after the day of news published\n",
    "Since the price data is on day level, we can only compare previous close, open, close, close of upcoming days"
   ]
  },
  {
   "cell_type": "code",
   "execution_count": 71,
   "metadata": {
    "collapsed": false
   },
   "outputs": [
    {
     "name": "stdout",
     "output_type": "stream",
     "text": [
      "CREXW.csv error\n"
     ]
    }
   ],
   "source": [
    "import os \n",
    "os.chdir(r'C:\\Users\\Derrick\\Documents\\Scripts\\Python\\StockRelated\\StockData')\n",
    "path = os.getcwd()\n",
    "dataFiles = os.listdir(path)\n",
    "\n",
    "\n",
    "import pandas as pd\n",
    "import numpy as np\n",
    "pd.options.mode.chained_assignment = None\n",
    "\n",
    "dfList = []\n",
    "for i in range(len(dataFiles)):\n",
    "#for i in range(1):\n",
    "    try:\n",
    "        df = pd.read_csv(dataFiles[i])\n",
    "        df = df[['date','open','close','adjClose']]\n",
    "        df = df.sort_values(by='date')\n",
    "        ticker = dataFiles[i].replace('.csv','')\n",
    "        \n",
    "        df['Adj-1'] = np.NaN\n",
    "        df['Adj+1'] = np.NaN\n",
    "        df['Adj+2'] = np.NaN\n",
    "        df['Adj+3'] = np.NaN\n",
    "        df['Adj+4'] = np.NaN\n",
    "        df['Adj+5'] = np.NaN    \n",
    "        df['Adj+6'] = np.NaN\n",
    "        df['Adj+7'] = np.NaN\n",
    "        df['Adj+8'] = np.NaN\n",
    "        df['Adj+9'] = np.NaN\n",
    "        df['Adj+10'] = np.NaN\n",
    "        \n",
    "        df['Adj-1'][1:len(df)] = df['adjClose'][0:len(df)-1]\n",
    "        df['Adj+1'][0:len(df)-1] = df['adjClose'][1:len(df)]\n",
    "        df['Adj+2'][0:len(df)-2] = df['adjClose'][2:len(df)]\n",
    "        df['Adj+3'][0:len(df)-3] = df['adjClose'][3:len(df)]\n",
    "        df['Adj+4'][0:len(df)-4] = df['adjClose'][4:len(df)]\n",
    "        df['Adj+5'][0:len(df)-5] = df['adjClose'][5:len(df)]\n",
    "        df['Adj+6'][0:len(df)-6] = df['adjClose'][6:len(df)]\n",
    "        df['Adj+7'][0:len(df)-7] = df['adjClose'][7:len(df)]\n",
    "        df['Adj+8'][0:len(df)-8] = df['adjClose'][8:len(df)]\n",
    "        df['Adj+9'][0:len(df)-9] = df['adjClose'][9:len(df)]\n",
    "        df['Adj+10'][0:len(df)-10] = df['adjClose'][10:len(df)]\n",
    "        \n",
    "        \n",
    "        df['Adj'] = 1\n",
    "        df['Adj-1'] = (df['Adj-1']/df['adjClose'])\n",
    "        df['Adj+1'] = (df['Adj+1']/df['adjClose'])\n",
    "        df['Adj+2'] = (df['Adj+2']/df['adjClose'])\n",
    "        df['Adj+3'] = (df['Adj+3']/df['adjClose'])\n",
    "        df['Adj+4'] = (df['Adj+4']/df['adjClose'])\n",
    "        df['Adj+5'] = (df['Adj+5']/df['adjClose'])\n",
    "        df['Adj+6'] = (df['Adj+6']/df['adjClose'])\n",
    "        df['Adj+7'] = (df['Adj+7']/df['adjClose'])\n",
    "        df['Adj+8'] = (df['Adj+8']/df['adjClose'])\n",
    "        df['Adj+9'] = (df['Adj+9']/df['adjClose'])\n",
    "        df['Adj+10'] = (df['Adj+10']/df['adjClose'])\n",
    "        \n",
    "        df['symbol'] = ticker\n",
    "        \n",
    "        df = df[['symbol','date','adjClose','Adj-1','Adj','Adj+1',\n",
    "                'Adj+2','Adj+3','Adj+4','Adj+5',\n",
    "                'Adj+6','Adj+7','Adj+8','Adj+9','Adj+10']]\n",
    "        dfList.append(df)\n",
    "        \n",
    "    except:\n",
    "        print(dataFiles[i], 'error')"
   ]
  },
  {
   "cell_type": "code",
   "execution_count": 72,
   "metadata": {
    "collapsed": false
   },
   "outputs": [
    {
     "data": {
      "text/plain": [
       "632"
      ]
     },
     "execution_count": 72,
     "metadata": {},
     "output_type": "execute_result"
    }
   ],
   "source": [
    "len(dfList)"
   ]
  },
  {
   "cell_type": "code",
   "execution_count": 73,
   "metadata": {
    "collapsed": true
   },
   "outputs": [],
   "source": [
    "price = pd.concat(dfList, axis=0)"
   ]
  },
  {
   "cell_type": "code",
   "execution_count": 76,
   "metadata": {
    "collapsed": false
   },
   "outputs": [
    {
     "data": {
      "text/html": [
       "<div>\n",
       "<table border=\"1\" class=\"dataframe\">\n",
       "  <thead>\n",
       "    <tr style=\"text-align: right;\">\n",
       "      <th></th>\n",
       "      <th>symbol</th>\n",
       "      <th>date</th>\n",
       "      <th>adjClose</th>\n",
       "      <th>Adj-1</th>\n",
       "      <th>Adj</th>\n",
       "      <th>Adj+1</th>\n",
       "      <th>Adj+2</th>\n",
       "      <th>Adj+3</th>\n",
       "      <th>Adj+4</th>\n",
       "      <th>Adj+5</th>\n",
       "      <th>Adj+6</th>\n",
       "      <th>Adj+7</th>\n",
       "      <th>Adj+8</th>\n",
       "      <th>Adj+9</th>\n",
       "      <th>Adj+10</th>\n",
       "    </tr>\n",
       "  </thead>\n",
       "  <tbody>\n",
       "    <tr>\n",
       "      <th>0</th>\n",
       "      <td>AABA</td>\n",
       "      <td>1998-01-02</td>\n",
       "      <td>4.1406</td>\n",
       "      <td>NaN</td>\n",
       "      <td>1</td>\n",
       "      <td>0.950031</td>\n",
       "      <td>0.966044</td>\n",
       "      <td>0.963170</td>\n",
       "      <td>0.969811</td>\n",
       "      <td>0.934043</td>\n",
       "      <td>0.943414</td>\n",
       "      <td>0.992924</td>\n",
       "      <td>1.011327</td>\n",
       "      <td>0.986282</td>\n",
       "      <td>0.984906</td>\n",
       "    </tr>\n",
       "    <tr>\n",
       "      <th>1</th>\n",
       "      <td>AABA</td>\n",
       "      <td>1998-01-05</td>\n",
       "      <td>3.9337</td>\n",
       "      <td>1.052597</td>\n",
       "      <td>1</td>\n",
       "      <td>1.016854</td>\n",
       "      <td>1.013829</td>\n",
       "      <td>1.020820</td>\n",
       "      <td>0.983171</td>\n",
       "      <td>0.993035</td>\n",
       "      <td>1.045148</td>\n",
       "      <td>1.064519</td>\n",
       "      <td>1.038157</td>\n",
       "      <td>1.036708</td>\n",
       "      <td>1.024811</td>\n",
       "    </tr>\n",
       "    <tr>\n",
       "      <th>2</th>\n",
       "      <td>AABA</td>\n",
       "      <td>1998-01-06</td>\n",
       "      <td>4.0000</td>\n",
       "      <td>0.983425</td>\n",
       "      <td>1</td>\n",
       "      <td>0.997025</td>\n",
       "      <td>1.003900</td>\n",
       "      <td>0.966875</td>\n",
       "      <td>0.976575</td>\n",
       "      <td>1.027825</td>\n",
       "      <td>1.046875</td>\n",
       "      <td>1.020950</td>\n",
       "      <td>1.019525</td>\n",
       "      <td>1.007825</td>\n",
       "      <td>0.998125</td>\n",
       "    </tr>\n",
       "    <tr>\n",
       "      <th>3</th>\n",
       "      <td>AABA</td>\n",
       "      <td>1998-01-07</td>\n",
       "      <td>3.9881</td>\n",
       "      <td>1.002984</td>\n",
       "      <td>1</td>\n",
       "      <td>1.006896</td>\n",
       "      <td>0.969760</td>\n",
       "      <td>0.979489</td>\n",
       "      <td>1.030892</td>\n",
       "      <td>1.049999</td>\n",
       "      <td>1.023996</td>\n",
       "      <td>1.022567</td>\n",
       "      <td>1.010832</td>\n",
       "      <td>1.001103</td>\n",
       "      <td>0.976505</td>\n",
       "    </tr>\n",
       "    <tr>\n",
       "      <th>4</th>\n",
       "      <td>AABA</td>\n",
       "      <td>1998-01-08</td>\n",
       "      <td>4.0156</td>\n",
       "      <td>0.993152</td>\n",
       "      <td>1</td>\n",
       "      <td>0.963119</td>\n",
       "      <td>0.972781</td>\n",
       "      <td>1.023832</td>\n",
       "      <td>1.042808</td>\n",
       "      <td>1.016984</td>\n",
       "      <td>1.015564</td>\n",
       "      <td>1.003910</td>\n",
       "      <td>0.994247</td>\n",
       "      <td>0.969818</td>\n",
       "      <td>0.961102</td>\n",
       "    </tr>\n",
       "  </tbody>\n",
       "</table>\n",
       "</div>"
      ],
      "text/plain": [
       "  symbol        date  adjClose     Adj-1  Adj     Adj+1     Adj+2     Adj+3  \\\n",
       "0   AABA  1998-01-02    4.1406       NaN    1  0.950031  0.966044  0.963170   \n",
       "1   AABA  1998-01-05    3.9337  1.052597    1  1.016854  1.013829  1.020820   \n",
       "2   AABA  1998-01-06    4.0000  0.983425    1  0.997025  1.003900  0.966875   \n",
       "3   AABA  1998-01-07    3.9881  1.002984    1  1.006896  0.969760  0.979489   \n",
       "4   AABA  1998-01-08    4.0156  0.993152    1  0.963119  0.972781  1.023832   \n",
       "\n",
       "      Adj+4     Adj+5     Adj+6     Adj+7     Adj+8     Adj+9    Adj+10  \n",
       "0  0.969811  0.934043  0.943414  0.992924  1.011327  0.986282  0.984906  \n",
       "1  0.983171  0.993035  1.045148  1.064519  1.038157  1.036708  1.024811  \n",
       "2  0.976575  1.027825  1.046875  1.020950  1.019525  1.007825  0.998125  \n",
       "3  1.030892  1.049999  1.023996  1.022567  1.010832  1.001103  0.976505  \n",
       "4  1.042808  1.016984  1.015564  1.003910  0.994247  0.969818  0.961102  "
      ]
     },
     "execution_count": 76,
     "metadata": {},
     "output_type": "execute_result"
    }
   ],
   "source": [
    "price.head()"
   ]
  },
  {
   "cell_type": "code",
   "execution_count": 77,
   "metadata": {
    "collapsed": false
   },
   "outputs": [
    {
     "data": {
      "text/plain": [
       "1967993"
      ]
     },
     "execution_count": 77,
     "metadata": {},
     "output_type": "execute_result"
    }
   ],
   "source": [
    "len(price)"
   ]
  },
  {
   "cell_type": "code",
   "execution_count": 79,
   "metadata": {
    "collapsed": false
   },
   "outputs": [
    {
     "data": {
      "text/plain": [
       "symbol            AABA\n",
       "date        1998-09-02\n",
       "adjClose        9.7188\n",
       "Adj-1         0.929261\n",
       "Adj                  1\n",
       "Adj+1         0.967064\n",
       "Adj+2         0.969513\n",
       "Adj+3          1.08848\n",
       "Adj+4          1.02893\n",
       "Adj+5          1.02739\n",
       "Adj+6          1.02739\n",
       "Adj+7          1.07884\n",
       "Adj+8          1.08527\n",
       "Adj+9          1.20102\n",
       "Adj+10         1.15832\n",
       "Name: 168, dtype: object"
      ]
     },
     "execution_count": 79,
     "metadata": {},
     "output_type": "execute_result"
    }
   ],
   "source": [
    "price.iloc[168]"
   ]
  },
  {
   "cell_type": "code",
   "execution_count": null,
   "metadata": {
    "collapsed": true
   },
   "outputs": [],
   "source": [
    "price.to_csv(r'F:\\SR\\MarketReaction\\Price.csv', index=False)"
   ]
  },
  {
   "cell_type": "code",
   "execution_count": null,
   "metadata": {
    "collapsed": true
   },
   "outputs": [],
   "source": []
  }
 ],
 "metadata": {
  "anaconda-cloud": {},
  "kernelspec": {
   "display_name": "Python [default]",
   "language": "python",
   "name": "python3"
  },
  "language_info": {
   "codemirror_mode": {
    "name": "ipython",
    "version": 3
   },
   "file_extension": ".py",
   "mimetype": "text/x-python",
   "name": "python",
   "nbconvert_exporter": "python",
   "pygments_lexer": "ipython3",
   "version": "3.5.2"
  }
 },
 "nbformat": 4,
 "nbformat_minor": 1
}
