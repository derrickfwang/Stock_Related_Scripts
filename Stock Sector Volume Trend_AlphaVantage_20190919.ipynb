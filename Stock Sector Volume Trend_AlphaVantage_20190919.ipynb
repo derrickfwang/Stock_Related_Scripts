{
 "cells": [
  {
   "cell_type": "code",
   "execution_count": 1,
   "metadata": {
    "collapsed": false
   },
   "outputs": [
    {
     "name": "stdout",
     "output_type": "stream",
     "text": [
      "please install talib\n"
     ]
    }
   ],
   "source": [
    "import yfinance as yf \n",
    "import matplotlib.pyplot as plt\n",
    "import pandas as pd\n",
    "import numpy as np\n",
    "import math\n",
    "import time\n",
    "\n",
    "import tushare as ts\n",
    "import time\n",
    "import sys\n",
    "\n",
    "import warnings\n",
    "warnings.simplefilter(\"ignore\")\n",
    "\n",
    "import os\n",
    "os.chdir(r'E:\\SR\\StockLists')\n",
    "\n",
    "% matplotlib inline"
   ]
  },
  {
   "cell_type": "code",
   "execution_count": 2,
   "metadata": {
    "collapsed": false
   },
   "outputs": [],
   "source": [
    "NYSE = pd.read_csv(r'NYSE.csv')\n",
    "NASDAQ = pd.read_csv(r'NASDAQ.csv')\n",
    "AMEX = pd.read_csv(r'AMEX.csv')"
   ]
  },
  {
   "cell_type": "code",
   "execution_count": 3,
   "metadata": {
    "collapsed": false
   },
   "outputs": [],
   "source": [
    "AllStock = pd.concat([NYSE[['Symbol','Name','MarketCap','Sector','industry']],\n",
    "                     NASDAQ[['Symbol','Name','MarketCap','Sector','industry']],\n",
    "                     AMEX[['Symbol','Name','MarketCap','Sector','industry']]], axis = 0)"
   ]
  },
  {
   "cell_type": "code",
   "execution_count": 4,
   "metadata": {
    "collapsed": false
   },
   "outputs": [],
   "source": [
    "AllStock.reset_index(inplace=True, drop=True)"
   ]
  },
  {
   "cell_type": "code",
   "execution_count": 5,
   "metadata": {
    "collapsed": false
   },
   "outputs": [],
   "source": [
    "AllStock1 = AllStock[ (AllStock['Sector'].notnull()) & ( AllStock['industry'].notnull() )]\n",
    "AllStock1.reset_index(drop=True, inplace=True)"
   ]
  },
  {
   "cell_type": "code",
   "execution_count": 6,
   "metadata": {
    "collapsed": false
   },
   "outputs": [
    {
     "data": {
      "text/plain": [
       "2657"
      ]
     },
     "execution_count": 6,
     "metadata": {},
     "output_type": "execute_result"
    }
   ],
   "source": [
    "os.chdir(r'E:\\SR\\StockLists\\US_20190918')\n",
    "os.getcwd()\n",
    "xx  = pd.DataFrame(os.listdir(), columns = ['FileName'])\n",
    "xx[['Symbol','Extension']] = xx['FileName'].str.split('.', expand=True, n=1)\n",
    "AllStock1['Symbol'] = AllStock1['Symbol'].str.strip()\n",
    "AllStock2 = AllStock1.reset_index()\n",
    "AllStock2.head()\n",
    "AllStock3 = AllStock2.merge(xx, on ='Symbol', how = 'left')\n",
    "AllStock3 =AllStock3[AllStock3['FileName'].isnull()]\n",
    "AllStock3.reset_index(drop=True, inplace=True)\n",
    "len(AllStock3)"
   ]
  },
  {
   "cell_type": "code",
   "execution_count": 7,
   "metadata": {
    "collapsed": true
   },
   "outputs": [],
   "source": [
    "from alpha_vantage.timeseries import TimeSeries\n",
    "import matplotlib.pyplot as plt\n",
    "from stockstats import StockDataFrame as Sdf\n",
    "import time\n",
    "import pandas as pd\n",
    "from datetime import datetime\n",
    "\n",
    "ts = TimeSeries(key='YDTG632CVJ4469F6', output_format='pandas')\n",
    "columDict = {'1. open':'Open', '2. high':'High', '3. low':'Low', '4. close':'Close'\n",
    "             ,'5. adjusted close':'Adj Close', '6. volume':'Volume'\n",
    "            ,'7. dividend amount':'dividebtAmt','8. split coefficient':'splitCoeff'}\n",
    "\n",
    "\n",
    "def getDaily(Name, size):\n",
    "    daily, meta_data = ts.get_daily_adjusted(symbol=Name,outputsize=size)    \n",
    "    daily = daily[daily['1. open'].notnull()]\n",
    "    daily = daily.rename(columns = columDict)\n",
    "    daily['Symbol'] = Name\n",
    "    return daily[['Adj Close', 'Close', 'High', 'Low','Open', 'Volume']]"
   ]
  },
  {
   "cell_type": "code",
   "execution_count": null,
   "metadata": {
    "collapsed": false
   },
   "outputs": [
    {
     "name": "stdout",
     "output_type": "stream",
     "text": [
      "1500\n",
      "Can not get  GMHIW\n",
      "1499\n",
      "Can not get  GMHIU\n",
      "1498\n",
      "Can not get  GMHI\n",
      "1497\n",
      "Can not get  GRSHW\n",
      "1496\n"
     ]
    }
   ],
   "source": [
    "os.chdir(r'E:\\SR\\StockLists\\US_20190918')\n",
    "\n",
    "for i in range(1500, 0, -1):\n",
    "    print(i)\n",
    "    if i!= 1 and i%5 == 1:\n",
    "        time.sleep(60)\n",
    "        Symbol = AllStock3['Symbol'][i].strip()\n",
    "        \n",
    "        try:\n",
    "            stock = getDaily(Symbol, 'full')\n",
    "            stock = stock.reset_index()\n",
    "            ToFile = Symbol + '.csv'\n",
    "            stock.to_csv(ToFile, index=False)\n",
    "        except:\n",
    "            print('Can not get ', Symbol)\n",
    "    else:\n",
    "        Symbol = AllStock3['Symbol'][i].strip()\n",
    "        try:            \n",
    "            stock = getDaily(Symbol, 'full')\n",
    "            stock = stock.reset_index()\n",
    "            ToFile = Symbol + '.csv'\n",
    "            stock.to_csv(ToFile, index=False)\n",
    "        except:\n",
    "            print('Can not get ', Symbol)"
   ]
  },
  {
   "cell_type": "code",
   "execution_count": 9,
   "metadata": {
    "collapsed": false
   },
   "outputs": [
    {
     "data": {
      "text/html": [
       "<div>\n",
       "<style scoped>\n",
       "    .dataframe tbody tr th:only-of-type {\n",
       "        vertical-align: middle;\n",
       "    }\n",
       "\n",
       "    .dataframe tbody tr th {\n",
       "        vertical-align: top;\n",
       "    }\n",
       "\n",
       "    .dataframe thead th {\n",
       "        text-align: right;\n",
       "    }\n",
       "</style>\n",
       "<table border=\"1\" class=\"dataframe\">\n",
       "  <thead>\n",
       "    <tr style=\"text-align: right;\">\n",
       "      <th></th>\n",
       "      <th>index</th>\n",
       "      <th>Symbol</th>\n",
       "      <th>Name</th>\n",
       "      <th>MarketCap</th>\n",
       "      <th>Sector</th>\n",
       "      <th>industry</th>\n",
       "      <th>FileName</th>\n",
       "      <th>Extension</th>\n",
       "    </tr>\n",
       "  </thead>\n",
       "  <tbody>\n",
       "    <tr>\n",
       "      <th>3221</th>\n",
       "      <td>5071</td>\n",
       "      <td>WVVI</td>\n",
       "      <td>Willamette Valley Vineyards, Inc.</td>\n",
       "      <td>$36.19M</td>\n",
       "      <td>Consumer Non-Durables</td>\n",
       "      <td>Beverages (Production/Distribution)</td>\n",
       "      <td>NaN</td>\n",
       "      <td>NaN</td>\n",
       "    </tr>\n",
       "    <tr>\n",
       "      <th>3222</th>\n",
       "      <td>5072</td>\n",
       "      <td>WVVIP</td>\n",
       "      <td>Willamette Valley Vineyards, Inc.</td>\n",
       "      <td>$21.15M</td>\n",
       "      <td>Consumer Non-Durables</td>\n",
       "      <td>Beverages (Production/Distribution)</td>\n",
       "      <td>NaN</td>\n",
       "      <td>NaN</td>\n",
       "    </tr>\n",
       "    <tr>\n",
       "      <th>3223</th>\n",
       "      <td>5073</td>\n",
       "      <td>WLDN</td>\n",
       "      <td>Willdan Group, Inc.</td>\n",
       "      <td>$441.92M</td>\n",
       "      <td>Consumer Services</td>\n",
       "      <td>Military/Government/Technical</td>\n",
       "      <td>NaN</td>\n",
       "      <td>NaN</td>\n",
       "    </tr>\n",
       "    <tr>\n",
       "      <th>3224</th>\n",
       "      <td>5074</td>\n",
       "      <td>WLFC</td>\n",
       "      <td>Willis Lease Finance Corporation</td>\n",
       "      <td>$336.81M</td>\n",
       "      <td>Consumer Durables</td>\n",
       "      <td>Industrial Specialties</td>\n",
       "      <td>NaN</td>\n",
       "      <td>NaN</td>\n",
       "    </tr>\n",
       "    <tr>\n",
       "      <th>3225</th>\n",
       "      <td>5075</td>\n",
       "      <td>WLTW</td>\n",
       "      <td>Willis Towers Watson Public Limited Company</td>\n",
       "      <td>$25.62B</td>\n",
       "      <td>Finance</td>\n",
       "      <td>Specialty Insurers</td>\n",
       "      <td>NaN</td>\n",
       "      <td>NaN</td>\n",
       "    </tr>\n",
       "  </tbody>\n",
       "</table>\n",
       "</div>"
      ],
      "text/plain": [
       "      index Symbol                                         Name MarketCap  \\\n",
       "3221   5071   WVVI            Willamette Valley Vineyards, Inc.   $36.19M   \n",
       "3222   5072  WVVIP            Willamette Valley Vineyards, Inc.   $21.15M   \n",
       "3223   5073   WLDN                          Willdan Group, Inc.  $441.92M   \n",
       "3224   5074   WLFC             Willis Lease Finance Corporation  $336.81M   \n",
       "3225   5075   WLTW  Willis Towers Watson Public Limited Company   $25.62B   \n",
       "\n",
       "                     Sector                             industry FileName  \\\n",
       "3221  Consumer Non-Durables  Beverages (Production/Distribution)      NaN   \n",
       "3222  Consumer Non-Durables  Beverages (Production/Distribution)      NaN   \n",
       "3223      Consumer Services        Military/Government/Technical      NaN   \n",
       "3224      Consumer Durables               Industrial Specialties      NaN   \n",
       "3225                Finance                   Specialty Insurers      NaN   \n",
       "\n",
       "     Extension  \n",
       "3221       NaN  \n",
       "3222       NaN  \n",
       "3223       NaN  \n",
       "3224       NaN  \n",
       "3225       NaN  "
      ]
     },
     "execution_count": 9,
     "metadata": {},
     "output_type": "execute_result"
    }
   ],
   "source": [
    "AllStock3.tail()"
   ]
  },
  {
   "cell_type": "code",
   "execution_count": null,
   "metadata": {
    "collapsed": true
   },
   "outputs": [],
   "source": []
  }
 ],
 "metadata": {
  "anaconda-cloud": {},
  "kernelspec": {
   "display_name": "Python [default]",
   "language": "python",
   "name": "python3"
  },
  "language_info": {
   "codemirror_mode": {
    "name": "ipython",
    "version": 3
   },
   "file_extension": ".py",
   "mimetype": "text/x-python",
   "name": "python",
   "nbconvert_exporter": "python",
   "pygments_lexer": "ipython3",
   "version": "3.5.6"
  }
 },
 "nbformat": 4,
 "nbformat_minor": 2
}
