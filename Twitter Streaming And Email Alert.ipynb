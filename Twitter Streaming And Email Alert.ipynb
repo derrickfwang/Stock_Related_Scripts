{
 "cells": [
  {
   "cell_type": "markdown",
   "metadata": {
    "collapsed": true
   },
   "source": [
    "# Twitter Streaming And Email Alert"
   ]
  },
  {
   "cell_type": "code",
   "execution_count": null,
   "metadata": {
    "collapsed": true
   },
   "outputs": [],
   "source": [
    "# Install library\n",
    "!pip install smtplib tweepy"
   ]
  },
  {
   "cell_type": "markdown",
   "metadata": {},
   "source": [
    "### 1. Setup the email"
   ]
  },
  {
   "cell_type": "code",
   "execution_count": 1,
   "metadata": {
    "collapsed": true
   },
   "outputs": [],
   "source": [
    "import smtplib\n",
    "\n",
    "def send_email(user, pwd, recipient, subject, body):    \n",
    "\n",
    "    FROM = user\n",
    "    TO = recipient if isinstance(recipient, list) else [recipient]\n",
    "    SUBJECT = subject\n",
    "    TEXT = body\n",
    "\n",
    "    # Prepare actual message\n",
    "    message = \"\"\"From: %s\\nTo: %s\\nSubject: %s\\n\\n%s\n",
    "    \"\"\" % (FROM, \", \".join(TO), SUBJECT, TEXT)\n",
    "    try:\n",
    "        server = smtplib.SMTP(\"smtp.gmail.com\", 587)\n",
    "        server.ehlo()\n",
    "        server.starttls()  # upgrade the connection to secure\n",
    "        server.login(user, pwd)\n",
    "        server.sendmail(FROM, TO, message)\n",
    "        server.close()\n",
    "        print ('successfully sent the mail')\n",
    "    except:\n",
    "        print (\"failed to send mail\")\n",
    "\n",
    "gmail_user = 'fwayne2012@gmail.com'\n",
    "gmail_password = 'Cnrc5068'\n",
    "to = ['derrick.wang@dialyspa.com']\n",
    "subject = 'Sent by Python'"
   ]
  },
  {
   "cell_type": "markdown",
   "metadata": {},
   "source": [
    "### 2. Setup Twitter Connection"
   ]
  },
  {
   "cell_type": "code",
   "execution_count": 2,
   "metadata": {
    "collapsed": true
   },
   "outputs": [],
   "source": [
    "import re\n",
    "import pandas as pd\n",
    "import tweepy\n",
    "import pandas\n",
    "import json # The API returns JSON formatted text\n",
    "import os\n",
    "os.chdir(r'C:\\Users\\dwang\\Documents\\Tech Docs\\Natural Language Processing\\Twitter')\n",
    "\n",
    "# Store OAuth authentication credentials - get at https://developer.twitter.com/en/apps\n",
    "access_token = \"1090469255995363328-Zp0IczEkb7OZV9zyFx29WCf36BaHDu\"\n",
    "access_token_secret = \"Va2DUqrIez2AR6ksOrjmeHiynR8OJhLd4d56fldkn4uhM\"\n",
    "consumer_key = \"Vb2SjXqcB1mr0OBeqapXKHfjT\"\n",
    "consumer_secret = \"S7CCwSE35ImaDJ7GOVeAgaExKQT9kVeJJ1gI0SMZE6LM97DOJn\"\n",
    "\n",
    "\n",
    "# Pass OAuth details to tweepy's OAuth handler\n",
    "auth = tweepy.OAuthHandler(consumer_key, consumer_secret)\n",
    "auth.set_access_token(access_token, access_token_secret)"
   ]
  },
  {
   "cell_type": "markdown",
   "metadata": {},
   "source": [
    "### 3. Define the twitter streaming"
   ]
  },
  {
   "cell_type": "code",
   "execution_count": 15,
   "metadata": {
    "collapsed": true
   },
   "outputs": [],
   "source": [
    "def deEmojify(inputString):\n",
    "    return inputString.encode('ascii', 'ignore').decode('ascii')\n",
    "\n",
    "\n",
    "class MyStreamListener(tweepy.StreamListener):\n",
    "    \"\"\"\n",
    "    Twitter listener, collects streaming tweets and output to a file\n",
    "    \"\"\"\n",
    "    def __init__(self, api=None):\n",
    "        super(MyStreamListener, self).__init__()\n",
    "        self.num_tweets = 0\n",
    "        #self.file = open(OUTPUT_FILE, \"w\")\n",
    "\n",
    "    def on_status(self, status):\n",
    "        tweet = status._json\n",
    "        UserId = tweet['user']['id']\n",
    "        \n",
    "        if str(UserId) in [TwitterID_DT, TwitterID_DW, TwitterID_WSJ]:                     \n",
    "            tweet_id = tweet['id']\n",
    "            TweetTime = tweet['created_at']       \n",
    "            try:\n",
    "                Text = tweet['extended_tweet']['full_text']\n",
    "                Text = re.sub(r'@+[a-zA-Z]+','',Text)\n",
    "                Text = re.sub(r'#+[a-zA-Z]+','',Text)\n",
    "                Text = re.sub(r'\\n','', Text)\n",
    "            except:\n",
    "                Text = tweet['text']\n",
    "                Text = re.sub(r'@+[a-zA-Z]+','',Text)\n",
    "                Text = re.sub(r'#+[a-zA-Z0-9]+','',Text)\n",
    "                Text = re.sub(r'\\n','', Text)\n",
    "                \n",
    "            #UserName = tweet['user']['name']        \n",
    "            UserScreenName = tweet['user']['screen_name']       \n",
    "            subject = UserScreenName + ' newly tweeted.'\n",
    "            \n",
    "            body = deEmojify(Text)  \n",
    "            RstList.append([TweetTime, tweet_id, deEmojify(Text), UserScreenName, UserId])\n",
    "            send_email(gmail_user, gmail_password, to, subject, body)\n",
    "        \n",
    "            self.num_tweets += 1\n",
    "            print('Numer of tweets captured so far: {}'.format(self.num_tweets))\n",
    "            \n",
    "            if self.num_tweets < TWEETS_TO_CAPTURE:                \n",
    "                return True  # continue streaming\n",
    "            else:                \n",
    "                return False  # stop streaming\n",
    "\n",
    "    def on_error(self, status):\n",
    "        print(status)"
   ]
  },
  {
   "cell_type": "markdown",
   "metadata": {},
   "source": [
    "### 4. Run the streaming and send email if DT or DW tweets"
   ]
  },
  {
   "cell_type": "code",
   "execution_count": null,
   "metadata": {
    "collapsed": false
   },
   "outputs": [
    {
     "name": "stdout",
     "output_type": "stream",
     "text": [
      "successfully sent the mail\n",
      "Numer of tweets captured so far: 1\n",
      "successfully sent the mail\n",
      "Numer of tweets captured so far: 2\n",
      "successfully sent the mail\n",
      "Numer of tweets captured so far: 3\n"
     ]
    }
   ],
   "source": [
    "TWEETS_TO_CAPTURE = 10\n",
    "RstList = []\n",
    "\n",
    "TwitterID_DW = '1090469255995363328'\n",
    "TwitterID_DT = '25073877'\n",
    "TwitterID_WSJ = '28164923' \n",
    "\n",
    "# Initialize Stream listener\n",
    "l = MyStreamListener()\n",
    "\n",
    "# Create you Stream object with authentication\n",
    "stream = tweepy.Stream(auth, l)\n",
    "\n",
    "# Filter Twitter Streams to capture data by the keywords or userID:\n",
    "stream.filter(follow= [TwitterID_DW, TwitterID_DT, TwitterID_WSJ])"
   ]
  },
  {
   "cell_type": "code",
   "execution_count": 17,
   "metadata": {
    "collapsed": false
   },
   "outputs": [
    {
     "data": {
      "text/html": [
       "<div>\n",
       "<style scoped>\n",
       "    .dataframe tbody tr th:only-of-type {\n",
       "        vertical-align: middle;\n",
       "    }\n",
       "\n",
       "    .dataframe tbody tr th {\n",
       "        vertical-align: top;\n",
       "    }\n",
       "\n",
       "    .dataframe thead th {\n",
       "        text-align: right;\n",
       "    }\n",
       "</style>\n",
       "<table border=\"1\" class=\"dataframe\">\n",
       "  <thead>\n",
       "    <tr style=\"text-align: right;\">\n",
       "      <th></th>\n",
       "      <th>DateTime</th>\n",
       "      <th>TweetId</th>\n",
       "      <th>Text</th>\n",
       "      <th>UserName</th>\n",
       "      <th>UserID</th>\n",
       "    </tr>\n",
       "  </thead>\n",
       "  <tbody>\n",
       "    <tr>\n",
       "      <th>0</th>\n",
       "      <td>2019-10-10 14:16:25-05:00</td>\n",
       "      <td>1182374344862904333</td>\n",
       "      <td>sdfgshj rsrtsgf</td>\n",
       "      <td>derrickfwang</td>\n",
       "      <td>1090469255995363328</td>\n",
       "    </tr>\n",
       "    <tr>\n",
       "      <th>1</th>\n",
       "      <td>2019-10-10 14:17:05-05:00</td>\n",
       "      <td>1182374511267721216</td>\n",
       "      <td>Cost-of-living increase smaller than the 2.8% ...</td>\n",
       "      <td>WSJmarkets</td>\n",
       "      <td>28164923</td>\n",
       "    </tr>\n",
       "    <tr>\n",
       "      <th>2</th>\n",
       "      <td>2019-10-10 14:40:06-05:00</td>\n",
       "      <td>1182380304461451265</td>\n",
       "      <td>With trading as a lure to gather more customer...</td>\n",
       "      <td>WSJmarkets</td>\n",
       "      <td>28164923</td>\n",
       "    </tr>\n",
       "    <tr>\n",
       "      <th>3</th>\n",
       "      <td>2019-10-10 14:49:46-05:00</td>\n",
       "      <td>1182382736205668353</td>\n",
       "      <td>RT : Heard on the Street: Deltas forecasts for...</td>\n",
       "      <td>WSJmarkets</td>\n",
       "      <td>28164923</td>\n",
       "    </tr>\n",
       "    <tr>\n",
       "      <th>4</th>\n",
       "      <td>2019-10-10 15:06:08-05:00</td>\n",
       "      <td>1182386854257184768</td>\n",
       "      <td>A management change at both car makers could p...</td>\n",
       "      <td>WSJmarkets</td>\n",
       "      <td>28164923</td>\n",
       "    </tr>\n",
       "    <tr>\n",
       "      <th>5</th>\n",
       "      <td>2019-10-10 15:07:12-05:00</td>\n",
       "      <td>1182387122382262273</td>\n",
       "      <td>RT : : President Trumps Thursday tweet about m...</td>\n",
       "      <td>WSJmarkets</td>\n",
       "      <td>28164923</td>\n",
       "    </tr>\n",
       "    <tr>\n",
       "      <th>6</th>\n",
       "      <td>2019-10-10 15:07:30-05:00</td>\n",
       "      <td>1182387197066039298</td>\n",
       "      <td>We defeated 100% of the ISIS Caliphate and no ...</td>\n",
       "      <td>realDonaldTrump</td>\n",
       "      <td>25073877</td>\n",
       "    </tr>\n",
       "    <tr>\n",
       "      <th>7</th>\n",
       "      <td>2019-10-10 15:07:30-05:00</td>\n",
       "      <td>1182387198164946944</td>\n",
       "      <td>....We have one of three choices: Send in thou...</td>\n",
       "      <td>realDonaldTrump</td>\n",
       "      <td>25073877</td>\n",
       "    </tr>\n",
       "    <tr>\n",
       "      <th>8</th>\n",
       "      <td>2019-10-10 15:23:05-05:00</td>\n",
       "      <td>1182391121021943809</td>\n",
       "      <td>Federal Reserve gives large banks a break on p...</td>\n",
       "      <td>WSJmarkets</td>\n",
       "      <td>28164923</td>\n",
       "    </tr>\n",
       "    <tr>\n",
       "      <th>9</th>\n",
       "      <td>2019-10-10 15:42:01-05:00</td>\n",
       "      <td>1182395885273206785</td>\n",
       "      <td>Shareholders should expect more pain as the ut...</td>\n",
       "      <td>WSJmarkets</td>\n",
       "      <td>28164923</td>\n",
       "    </tr>\n",
       "  </tbody>\n",
       "</table>\n",
       "</div>"
      ],
      "text/plain": [
       "                   DateTime              TweetId  \\\n",
       "0 2019-10-10 14:16:25-05:00  1182374344862904333   \n",
       "1 2019-10-10 14:17:05-05:00  1182374511267721216   \n",
       "2 2019-10-10 14:40:06-05:00  1182380304461451265   \n",
       "3 2019-10-10 14:49:46-05:00  1182382736205668353   \n",
       "4 2019-10-10 15:06:08-05:00  1182386854257184768   \n",
       "5 2019-10-10 15:07:12-05:00  1182387122382262273   \n",
       "6 2019-10-10 15:07:30-05:00  1182387197066039298   \n",
       "7 2019-10-10 15:07:30-05:00  1182387198164946944   \n",
       "8 2019-10-10 15:23:05-05:00  1182391121021943809   \n",
       "9 2019-10-10 15:42:01-05:00  1182395885273206785   \n",
       "\n",
       "                                                Text         UserName  \\\n",
       "0                                    sdfgshj rsrtsgf     derrickfwang   \n",
       "1  Cost-of-living increase smaller than the 2.8% ...       WSJmarkets   \n",
       "2  With trading as a lure to gather more customer...       WSJmarkets   \n",
       "3  RT : Heard on the Street: Deltas forecasts for...       WSJmarkets   \n",
       "4  A management change at both car makers could p...       WSJmarkets   \n",
       "5  RT : : President Trumps Thursday tweet about m...       WSJmarkets   \n",
       "6  We defeated 100% of the ISIS Caliphate and no ...  realDonaldTrump   \n",
       "7  ....We have one of three choices: Send in thou...  realDonaldTrump   \n",
       "8  Federal Reserve gives large banks a break on p...       WSJmarkets   \n",
       "9  Shareholders should expect more pain as the ut...       WSJmarkets   \n",
       "\n",
       "                UserID  \n",
       "0  1090469255995363328  \n",
       "1             28164923  \n",
       "2             28164923  \n",
       "3             28164923  \n",
       "4             28164923  \n",
       "5             28164923  \n",
       "6             25073877  \n",
       "7             25073877  \n",
       "8             28164923  \n",
       "9             28164923  "
      ]
     },
     "execution_count": 17,
     "metadata": {},
     "output_type": "execute_result"
    }
   ],
   "source": [
    "Rst = pd.DataFrame(RstList, columns = ['DateTime', 'TweetId','Text', 'UserName', 'UserID'])\n",
    "Rst['DateTime'] = pd.to_datetime(Rst['DateTime'])\n",
    "Rst['DateTime'] = Rst['DateTime'].dt.tz_convert('America/Chicago')\n",
    "#Rst['DateTime'] = Rst['DateTime'].\n",
    "Rst"
   ]
  },
  {
   "cell_type": "markdown",
   "metadata": {},
   "source": [
    "### 5. Sending Aleart email to notify that streaming stopped or completed"
   ]
  },
  {
   "cell_type": "code",
   "execution_count": 7,
   "metadata": {
    "collapsed": false
   },
   "outputs": [
    {
     "name": "stdout",
     "output_type": "stream",
     "text": [
      "successfully sent the mail\n"
     ]
    }
   ],
   "source": [
    "body = 'Streaming completed or stopped.'\n",
    "send_email(gmail_user, gmail_password, to, subject, body)"
   ]
  },
  {
   "cell_type": "code",
   "execution_count": null,
   "metadata": {
    "collapsed": true
   },
   "outputs": [],
   "source": []
  }
 ],
 "metadata": {
  "anaconda-cloud": {},
  "kernelspec": {
   "display_name": "Python [default]",
   "language": "python",
   "name": "python3"
  },
  "language_info": {
   "codemirror_mode": {
    "name": "ipython",
    "version": 3
   },
   "file_extension": ".py",
   "mimetype": "text/x-python",
   "name": "python",
   "nbconvert_exporter": "python",
   "pygments_lexer": "ipython3",
   "version": "3.5.6"
  }
 },
 "nbformat": 4,
 "nbformat_minor": 2
}
