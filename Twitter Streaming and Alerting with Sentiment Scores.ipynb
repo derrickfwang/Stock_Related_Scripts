{
 "cells": [
  {
   "cell_type": "markdown",
   "metadata": {
    "collapsed": true
   },
   "source": [
    "# Twitter Streaming And Email Alert"
   ]
  },
  {
   "cell_type": "markdown",
   "metadata": {},
   "source": [
    "#### Sending email reference\n",
    "\n",
    "https://stackabuse.com/how-to-send-emails-with-gmail-using-python/\n",
    "\n",
    "\n",
    "https://stackoverflow.com/questions/10147455/how-to-send-an-email-with-gmail-as-provider-using-python"
   ]
  },
  {
   "cell_type": "markdown",
   "metadata": {},
   "source": [
    "### 1. Setup the email"
   ]
  },
  {
   "cell_type": "code",
   "execution_count": null,
   "metadata": {
    "collapsed": true
   },
   "outputs": [],
   "source": [
    "import smtplib\n",
    "\n",
    "def send_email(user, pwd, recipient, subject, body):    \n",
    "\n",
    "    FROM = user\n",
    "    TO = recipient if isinstance(recipient, list) else [recipient]\n",
    "    SUBJECT = subject\n",
    "    TEXT = body\n",
    "\n",
    "    # Prepare actual message\n",
    "    message = \"\"\"From: %s\\nTo: %s\\nSubject: %s\\n\\n%s\n",
    "    \"\"\" % (FROM, \", \".join(TO), SUBJECT, TEXT)\n",
    "    try:\n",
    "        server = smtplib.SMTP(\"smtp.gmail.com\", 587)\n",
    "        server.ehlo()\n",
    "        server.starttls()  # upgrade the connection to secure\n",
    "        server.login(user, pwd)\n",
    "        server.sendmail(FROM, TO, message)\n",
    "        server.close()\n",
    "        print ('successfully sent the mail')\n",
    "    except:\n",
    "        print (\"failed to send mail\")\n",
    "\n",
    "gmail_user = 'fwayne2012@gmail.com'\n",
    "gmail_password = 'Cnrc5068'\n",
    "to = ['derrick.wang@dialyspa.com']\n",
    "subject = 'Sent by Python'"
   ]
  },
  {
   "cell_type": "markdown",
   "metadata": {},
   "source": [
    "### 2. Setup Twitter Connection"
   ]
  },
  {
   "cell_type": "code",
   "execution_count": 137,
   "metadata": {
    "collapsed": false
   },
   "outputs": [],
   "source": [
    "import re\n",
    "import pandas as pd\n",
    "import numpy as np\n",
    "import tweepy\n",
    "import pandas\n",
    "import json # The API returns JSON formatted text\n",
    "import warnings\n",
    "import os\n",
    "from matplotlib import pyplot as plt\n",
    "\n",
    "os.chdir(r'C:\\Users\\dwang\\Documents\\Tech Docs\\Natural Language Processing\\Twitter')\n",
    "warnings.simplefilter('ignore')\n",
    "% matplotlib inline\n",
    "\n",
    "# Store OAuth authentication credentials - get at https://developer.twitter.com/en/apps\n",
    "access_token = \"1090469255995363328-Zp0IczEkb7OZV9zyFx29WCf36BaHDu\"\n",
    "access_token_secret = \"Va2DUqrIez2AR6ksOrjmeHiynR8OJhLd4d56fldkn4uhM\"\n",
    "consumer_key = \"Vb2SjXqcB1mr0OBeqapXKHfjT\"\n",
    "consumer_secret = \"S7CCwSE35ImaDJ7GOVeAgaExKQT9kVeJJ1gI0SMZE6LM97DOJn\"\n",
    "\n",
    "\n",
    "# Pass OAuth details to tweepy's OAuth handler\n",
    "auth = tweepy.OAuthHandler(consumer_key, consumer_secret)\n",
    "auth.set_access_token(access_token, access_token_secret)"
   ]
  },
  {
   "cell_type": "markdown",
   "metadata": {},
   "source": [
    "### 3. Define the twitter streaming"
   ]
  },
  {
   "cell_type": "code",
   "execution_count": null,
   "metadata": {
    "collapsed": true
   },
   "outputs": [],
   "source": [
    "TWEETS_TO_CAPTURE = 10\n",
    "RstList = []\n",
    "\n",
    "def deEmojify(inputString):\n",
    "    return inputString.encode('ascii', 'ignore').decode('ascii')\n",
    "\n",
    "\n",
    "class MyStreamListener(tweepy.StreamListener):\n",
    "    \"\"\"\n",
    "    Twitter listener, collects streaming tweets and output to a file\n",
    "    \"\"\"\n",
    "    def __init__(self, api=None):\n",
    "        super(MyStreamListener, self).__init__()\n",
    "        self.num_tweets = 0\n",
    "        #self.file = open(OUTPUT_FILE, \"w\")\n",
    "\n",
    "    def on_status(self, status):\n",
    "        tweet = status._json\n",
    "        UserId = tweet['user']['id']\n",
    "        \n",
    "        if str(UserId) in [TwitterID_DT, TwitterID_DW]:                     \n",
    "            tweet_id = tweet['id']\n",
    "            TweetTime = tweet['created_at']       \n",
    "            try:\n",
    "                Text = tweet['extended_tweet']['full_text']\n",
    "                Text = re.sub(r'@+[a-zA-Z]+','',Text)\n",
    "                Text = re.sub(r'#+[a-zA-Z]+','',Text)\n",
    "                Text = re.sub(r'\\n','', Text)\n",
    "            except:\n",
    "                Text = tweet['text']\n",
    "                Text = re.sub(r'@+[a-zA-Z]+','',Text)\n",
    "                Text = re.sub(r'#+[a-zA-Z0-9]+','',Text)\n",
    "                Text = re.sub(r'\\n','', Text)\n",
    "                \n",
    "            #UserName = tweet['user']['name']        \n",
    "            UserScreenName = tweet['user']['screen_name']            \n",
    "            body = deEmojify(Text)  \n",
    "            RstList.append([TweetTime, tweet_id, deEmojify(Text), UserScreenName, UserId])\n",
    "            send_email(gmail_user, gmail_password, to, subject, body)\n",
    "        \n",
    "            self.num_tweets += 1\n",
    "            print('Numer of tweets captured so far: {}'.format(self.num_tweets))\n",
    "            \n",
    "            if self.num_tweets < TWEETS_TO_CAPTURE:                \n",
    "                return True  # continue streaming\n",
    "            else:                \n",
    "                return False  # stop streaming\n",
    "\n",
    "    def on_error(self, status):\n",
    "        print(status)"
   ]
  },
  {
   "cell_type": "markdown",
   "metadata": {},
   "source": [
    "### 4. Run the streaming and send email if DT or DW tweets"
   ]
  },
  {
   "cell_type": "code",
   "execution_count": null,
   "metadata": {
    "collapsed": true
   },
   "outputs": [],
   "source": [
    "TwitterID_DW = '1090469255995363328'\n",
    "TwitterID_DT = '25073877'\n",
    "\n",
    "# Initialize Stream listener\n",
    "l = MyStreamListener()\n",
    "\n",
    "# Create you Stream object with authentication\n",
    "stream = tweepy.Stream(auth, l)\n",
    "\n",
    "# Filter Twitter Streams to capture data by the keywords or userID:\n",
    "stream.filter(follow= [TwitterID_DW, TwitterID_DT])"
   ]
  },
  {
   "cell_type": "code",
   "execution_count": null,
   "metadata": {
    "collapsed": true
   },
   "outputs": [],
   "source": [
    "Rst = pd.DataFrame(RstList, columns = ['DateTime', 'TweetId','Text', 'UserName', 'UserID'])\n",
    "Rst['DateTime'] = pd.to_datetime(Rst['DateTime'])\n",
    "Rst['DateTime'] = Rst['DateTime'].dt.tz_convert('America/Chicago')\n",
    "#Rst['DateTime'] = Rst['DateTime'].\n",
    "Rst"
   ]
  },
  {
   "cell_type": "markdown",
   "metadata": {},
   "source": [
    "### 5. Sending Aleart email to notify that streaming stopped or completed"
   ]
  },
  {
   "cell_type": "code",
   "execution_count": null,
   "metadata": {
    "collapsed": true
   },
   "outputs": [],
   "source": [
    "body = 'Streaming completed or stopped.'\n",
    "send_email(gmail_user, gmail_password, to, subject, body)"
   ]
  },
  {
   "cell_type": "code",
   "execution_count": null,
   "metadata": {
    "collapsed": true
   },
   "outputs": [],
   "source": []
  },
  {
   "cell_type": "markdown",
   "metadata": {},
   "source": [
    "# ==============================================================="
   ]
  },
  {
   "cell_type": "markdown",
   "metadata": {},
   "source": [
    "# Historical Tweets"
   ]
  },
  {
   "cell_type": "code",
   "execution_count": 625,
   "metadata": {
    "collapsed": false
   },
   "outputs": [
    {
     "data": {
      "text/html": [
       "<div>\n",
       "<style scoped>\n",
       "    .dataframe tbody tr th:only-of-type {\n",
       "        vertical-align: middle;\n",
       "    }\n",
       "\n",
       "    .dataframe tbody tr th {\n",
       "        vertical-align: top;\n",
       "    }\n",
       "\n",
       "    .dataframe thead th {\n",
       "        text-align: right;\n",
       "    }\n",
       "</style>\n",
       "<table border=\"1\" class=\"dataframe\">\n",
       "  <thead>\n",
       "    <tr style=\"text-align: right;\">\n",
       "      <th></th>\n",
       "      <th>source</th>\n",
       "      <th>text</th>\n",
       "      <th>created_at</th>\n",
       "      <th>retweet_count</th>\n",
       "      <th>favorite_count</th>\n",
       "      <th>is_retweet</th>\n",
       "      <th>id_str</th>\n",
       "    </tr>\n",
       "  </thead>\n",
       "  <tbody>\n",
       "    <tr>\n",
       "      <th>0</th>\n",
       "      <td>Twitter for iPhone</td>\n",
       "      <td>Fake News just like the snakes and gators in t...</td>\n",
       "      <td>10-03-2019 13:40:19</td>\n",
       "      <td>9694</td>\n",
       "      <td>34020</td>\n",
       "      <td>False</td>\n",
       "      <td>1179753043908268032</td>\n",
       "    </tr>\n",
       "    <tr>\n",
       "      <th>1</th>\n",
       "      <td>Twitter for iPhone</td>\n",
       "      <td>RT @DonaldJTrumpJr: Good times with @seanhanni...</td>\n",
       "      <td>10-03-2019 13:26:53</td>\n",
       "      <td>7320</td>\n",
       "      <td>0</td>\n",
       "      <td>True</td>\n",
       "      <td>1179749665941676032</td>\n",
       "    </tr>\n",
       "    <tr>\n",
       "      <th>2</th>\n",
       "      <td>Twitter for iPhone</td>\n",
       "      <td>Schiff is a lowlife who should resign (at leas...</td>\n",
       "      <td>10-03-2019 12:09:33</td>\n",
       "      <td>13614</td>\n",
       "      <td>47095</td>\n",
       "      <td>False</td>\n",
       "      <td>1179730204001996800</td>\n",
       "    </tr>\n",
       "    <tr>\n",
       "      <th>3</th>\n",
       "      <td>Twitter for iPhone</td>\n",
       "      <td>RT @TrumpWarRoom: NBC News reports that Hunter...</td>\n",
       "      <td>10-03-2019 12:07:04</td>\n",
       "      <td>12280</td>\n",
       "      <td>0</td>\n",
       "      <td>True</td>\n",
       "      <td>1179729579239448582</td>\n",
       "    </tr>\n",
       "    <tr>\n",
       "      <th>4</th>\n",
       "      <td>Twitter for iPhone</td>\n",
       "      <td>RT @replouiegohmert: Honored heroic wounded wa...</td>\n",
       "      <td>10-03-2019 12:05:51</td>\n",
       "      <td>2903</td>\n",
       "      <td>0</td>\n",
       "      <td>True</td>\n",
       "      <td>1179729271620849664</td>\n",
       "    </tr>\n",
       "  </tbody>\n",
       "</table>\n",
       "</div>"
      ],
      "text/plain": [
       "               source                                               text  \\\n",
       "0  Twitter for iPhone  Fake News just like the snakes and gators in t...   \n",
       "1  Twitter for iPhone  RT @DonaldJTrumpJr: Good times with @seanhanni...   \n",
       "2  Twitter for iPhone  Schiff is a lowlife who should resign (at leas...   \n",
       "3  Twitter for iPhone  RT @TrumpWarRoom: NBC News reports that Hunter...   \n",
       "4  Twitter for iPhone  RT @replouiegohmert: Honored heroic wounded wa...   \n",
       "\n",
       "            created_at  retweet_count  favorite_count is_retweet  \\\n",
       "0  10-03-2019 13:40:19           9694           34020      False   \n",
       "1  10-03-2019 13:26:53           7320               0       True   \n",
       "2  10-03-2019 12:09:33          13614           47095      False   \n",
       "3  10-03-2019 12:07:04          12280               0       True   \n",
       "4  10-03-2019 12:05:51           2903               0       True   \n",
       "\n",
       "                id_str  \n",
       "0  1179753043908268032  \n",
       "1  1179749665941676032  \n",
       "2  1179730204001996800  \n",
       "3  1179729579239448582  \n",
       "4  1179729271620849664  "
      ]
     },
     "execution_count": 625,
     "metadata": {},
     "output_type": "execute_result"
    }
   ],
   "source": [
    "HisDf = pd.read_csv(r'rdt_20191003.csv')\n",
    "HisDf.head()"
   ]
  },
  {
   "cell_type": "code",
   "execution_count": 626,
   "metadata": {
    "collapsed": false
   },
   "outputs": [
    {
     "data": {
      "text/plain": [
       "10766"
      ]
     },
     "execution_count": 626,
     "metadata": {},
     "output_type": "execute_result"
    }
   ],
   "source": [
    "len(HisDf)"
   ]
  },
  {
   "cell_type": "code",
   "execution_count": 627,
   "metadata": {
    "collapsed": false
   },
   "outputs": [],
   "source": [
    "HisDf['created_at'] = pd.to_datetime(HisDf['created_at'])\n",
    "HisDf['created_at'] = HisDf['created_at'].dt.tz_localize('GMT')\n",
    "HisDf['created_at'] = HisDf['created_at'].dt.tz_convert('America/New_York')"
   ]
  },
  {
   "cell_type": "code",
   "execution_count": 628,
   "metadata": {
    "collapsed": false
   },
   "outputs": [
    {
     "data": {
      "text/html": [
       "<div>\n",
       "<style scoped>\n",
       "    .dataframe tbody tr th:only-of-type {\n",
       "        vertical-align: middle;\n",
       "    }\n",
       "\n",
       "    .dataframe tbody tr th {\n",
       "        vertical-align: top;\n",
       "    }\n",
       "\n",
       "    .dataframe thead th {\n",
       "        text-align: right;\n",
       "    }\n",
       "</style>\n",
       "<table border=\"1\" class=\"dataframe\">\n",
       "  <thead>\n",
       "    <tr style=\"text-align: right;\">\n",
       "      <th></th>\n",
       "      <th>source</th>\n",
       "      <th>text</th>\n",
       "      <th>created_at</th>\n",
       "      <th>retweet_count</th>\n",
       "      <th>favorite_count</th>\n",
       "      <th>is_retweet</th>\n",
       "      <th>id_str</th>\n",
       "    </tr>\n",
       "  </thead>\n",
       "  <tbody>\n",
       "    <tr>\n",
       "      <th>10761</th>\n",
       "      <td>Twitter for Android</td>\n",
       "      <td>Congratulations to Rex Tillerson on being swor...</td>\n",
       "      <td>2017-02-02 06:18:21-05:00</td>\n",
       "      <td>15883</td>\n",
       "      <td>115116</td>\n",
       "      <td>False</td>\n",
       "      <td>827113926517194757</td>\n",
       "    </tr>\n",
       "    <tr>\n",
       "      <th>10762</th>\n",
       "      <td>Twitter for Android</td>\n",
       "      <td>If U.C. Berkeley does not allow free speech an...</td>\n",
       "      <td>2017-02-02 06:13:13-05:00</td>\n",
       "      <td>60266</td>\n",
       "      <td>213655</td>\n",
       "      <td>False</td>\n",
       "      <td>827112633224544256</td>\n",
       "    </tr>\n",
       "    <tr>\n",
       "      <th>10763</th>\n",
       "      <td>Twitter for Android</td>\n",
       "      <td>Do you believe it? The Obama Administration ag...</td>\n",
       "      <td>2017-02-01 22:55:49-05:00</td>\n",
       "      <td>37373</td>\n",
       "      <td>152041</td>\n",
       "      <td>False</td>\n",
       "      <td>827002559122567168</td>\n",
       "    </tr>\n",
       "    <tr>\n",
       "      <th>10764</th>\n",
       "      <td>Twitter for Android</td>\n",
       "      <td>Iran is rapidly taking over more and more of I...</td>\n",
       "      <td>2017-02-01 22:06:14-05:00</td>\n",
       "      <td>20915</td>\n",
       "      <td>93611</td>\n",
       "      <td>False</td>\n",
       "      <td>826990079738540033</td>\n",
       "    </tr>\n",
       "    <tr>\n",
       "      <th>10765</th>\n",
       "      <td>Twitter for Android</td>\n",
       "      <td>Everybody is arguing whether or not it is a BA...</td>\n",
       "      <td>2017-02-01 07:50:16-05:00</td>\n",
       "      <td>60583</td>\n",
       "      <td>252382</td>\n",
       "      <td>False</td>\n",
       "      <td>826774668245946368</td>\n",
       "    </tr>\n",
       "  </tbody>\n",
       "</table>\n",
       "</div>"
      ],
      "text/plain": [
       "                    source                                               text  \\\n",
       "10761  Twitter for Android  Congratulations to Rex Tillerson on being swor...   \n",
       "10762  Twitter for Android  If U.C. Berkeley does not allow free speech an...   \n",
       "10763  Twitter for Android  Do you believe it? The Obama Administration ag...   \n",
       "10764  Twitter for Android  Iran is rapidly taking over more and more of I...   \n",
       "10765  Twitter for Android  Everybody is arguing whether or not it is a BA...   \n",
       "\n",
       "                     created_at  retweet_count  favorite_count is_retweet  \\\n",
       "10761 2017-02-02 06:18:21-05:00          15883          115116      False   \n",
       "10762 2017-02-02 06:13:13-05:00          60266          213655      False   \n",
       "10763 2017-02-01 22:55:49-05:00          37373          152041      False   \n",
       "10764 2017-02-01 22:06:14-05:00          20915           93611      False   \n",
       "10765 2017-02-01 07:50:16-05:00          60583          252382      False   \n",
       "\n",
       "                   id_str  \n",
       "10761  827113926517194757  \n",
       "10762  827112633224544256  \n",
       "10763  827002559122567168  \n",
       "10764  826990079738540033  \n",
       "10765  826774668245946368  "
      ]
     },
     "execution_count": 628,
     "metadata": {},
     "output_type": "execute_result"
    }
   ],
   "source": [
    "HisDf.tail()"
   ]
  },
  {
   "cell_type": "code",
   "execution_count": 629,
   "metadata": {
    "collapsed": false
   },
   "outputs": [],
   "source": [
    "HisDf['Year'] = HisDf['created_at'].dt.year\n",
    "HisDf['Month'] = HisDf['created_at'].dt.month\n",
    "HisDf['Weekday'] = HisDf['created_at'].dt.weekday\n",
    "HisDf['Hour'] = HisDf['created_at'].dt.hour"
   ]
  },
  {
   "cell_type": "code",
   "execution_count": 547,
   "metadata": {
    "collapsed": false
   },
   "outputs": [
    {
     "data": {
      "text/plain": [
       "<matplotlib.axes._subplots.AxesSubplot at 0x1869afb45f8>"
      ]
     },
     "execution_count": 547,
     "metadata": {},
     "output_type": "execute_result"
    },
    {
     "data": {
      "image/png": "[encoded data removed]",
      "text/plain": [
       "<matplotlib.figure.Figure at 0x186acfd83c8>"
      ]
     },
     "metadata": {},
     "output_type": "display_data"
    }
   ],
   "source": [
    "HisDf['Hour'].value_counts().sort_index().plot(figsize=(10,4), grid=True)"
   ]
  },
  {
   "cell_type": "code",
   "execution_count": 548,
   "metadata": {
    "collapsed": false
   },
   "outputs": [
    {
     "data": {
      "text/plain": [
       "<matplotlib.axes._subplots.AxesSubplot at 0x186b1bedf28>"
      ]
     },
     "execution_count": 548,
     "metadata": {},
     "output_type": "execute_result"
    },
    {
     "data": {
      "image/png": "[encoded data removed]",
      "text/plain": [
       "<matplotlib.figure.Figure at 0x186b357b7f0>"
      ]
     },
     "metadata": {},
     "output_type": "display_data"
    }
   ],
   "source": [
    "HisDf[['is_retweet','Hour','id_str']].groupby(['is_retweet','Hour']).count().unstack('is_retweet').plot(figsize=(10,4), grid=True)"
   ]
  },
  {
   "cell_type": "code",
   "execution_count": 549,
   "metadata": {
    "collapsed": false
   },
   "outputs": [
    {
     "data": {
      "text/plain": [
       "<matplotlib.axes._subplots.AxesSubplot at 0x1869afebba8>"
      ]
     },
     "execution_count": 549,
     "metadata": {},
     "output_type": "execute_result"
    },
    {
     "data": {
      "image/png": "[encoded data removed]",
      "text/plain": [
       "<matplotlib.figure.Figure at 0x186ae3d0b38>"
      ]
     },
     "metadata": {},
     "output_type": "display_data"
    }
   ],
   "source": [
    "HisDf[['Year','Hour','id_str']].groupby(['Year','Hour']).count().unstack('Year').plot(figsize=(10,4), grid=True)"
   ]
  },
  {
   "cell_type": "code",
   "execution_count": 550,
   "metadata": {
    "collapsed": false
   },
   "outputs": [
    {
     "data": {
      "text/plain": [
       "<matplotlib.axes._subplots.AxesSubplot at 0x186ae52df28>"
      ]
     },
     "execution_count": 550,
     "metadata": {},
     "output_type": "execute_result"
    },
    {
     "data": {
      "image/png": "[encoded data removed]",
      "text/plain": [
       "<matplotlib.figure.Figure at 0x186b1bf44a8>"
      ]
     },
     "metadata": {},
     "output_type": "display_data"
    }
   ],
   "source": [
    "HisDf['Weekday'].value_counts().sort_index().plot.bar()\n",
    "#plt.ylim(0,6500)"
   ]
  },
  {
   "cell_type": "code",
   "execution_count": 551,
   "metadata": {
    "collapsed": false
   },
   "outputs": [
    {
     "data": {
      "text/plain": [
       "<matplotlib.axes._subplots.AxesSubplot at 0x186ae4561d0>"
      ]
     },
     "execution_count": 551,
     "metadata": {},
     "output_type": "execute_result"
    },
    {
     "data": {
      "image/png": "[encoded data removed]",
      "text/plain": [
       "<matplotlib.figure.Figure at 0x186c660df98>"
      ]
     },
     "metadata": {},
     "output_type": "display_data"
    }
   ],
   "source": [
    "HisDf['Year'].value_counts().sort_index().plot.bar()\n",
    "#plt.ylim(0,4000)"
   ]
  },
  {
   "cell_type": "markdown",
   "metadata": {},
   "source": [
    "### Merge Trump Tweets with STK"
   ]
  },
  {
   "cell_type": "code",
   "execution_count": 552,
   "metadata": {
    "collapsed": false
   },
   "outputs": [
    {
     "name": "stdout",
     "output_type": "stream",
     "text": [
      "[*********************100%***********************]  1 of 1 downloaded\n"
     ]
    },
    {
     "data": {
      "text/html": [
       "<div>\n",
       "<style scoped>\n",
       "    .dataframe tbody tr th:only-of-type {\n",
       "        vertical-align: middle;\n",
       "    }\n",
       "\n",
       "    .dataframe tbody tr th {\n",
       "        vertical-align: top;\n",
       "    }\n",
       "\n",
       "    .dataframe thead th {\n",
       "        text-align: right;\n",
       "    }\n",
       "</style>\n",
       "<table border=\"1\" class=\"dataframe\">\n",
       "  <thead>\n",
       "    <tr style=\"text-align: right;\">\n",
       "      <th></th>\n",
       "      <th>Adj Close</th>\n",
       "      <th>Close</th>\n",
       "      <th>High</th>\n",
       "      <th>Low</th>\n",
       "      <th>Open</th>\n",
       "      <th>Volume</th>\n",
       "    </tr>\n",
       "    <tr>\n",
       "      <th>Date</th>\n",
       "      <th></th>\n",
       "      <th></th>\n",
       "      <th></th>\n",
       "      <th></th>\n",
       "      <th></th>\n",
       "      <th></th>\n",
       "    </tr>\n",
       "  </thead>\n",
       "  <tbody>\n",
       "    <tr>\n",
       "      <th>2017-01-20</th>\n",
       "      <td>2271.31</td>\n",
       "      <td>2271.31</td>\n",
       "      <td>2276.96</td>\n",
       "      <td>2265.01</td>\n",
       "      <td>2269.96</td>\n",
       "      <td>3524970000</td>\n",
       "    </tr>\n",
       "    <tr>\n",
       "      <th>2017-01-23</th>\n",
       "      <td>2265.20</td>\n",
       "      <td>2265.20</td>\n",
       "      <td>2271.78</td>\n",
       "      <td>2257.02</td>\n",
       "      <td>2267.78</td>\n",
       "      <td>3152710000</td>\n",
       "    </tr>\n",
       "    <tr>\n",
       "      <th>2017-01-24</th>\n",
       "      <td>2280.07</td>\n",
       "      <td>2280.07</td>\n",
       "      <td>2284.63</td>\n",
       "      <td>2266.68</td>\n",
       "      <td>2267.88</td>\n",
       "      <td>3810960000</td>\n",
       "    </tr>\n",
       "    <tr>\n",
       "      <th>2017-01-25</th>\n",
       "      <td>2298.37</td>\n",
       "      <td>2298.37</td>\n",
       "      <td>2299.55</td>\n",
       "      <td>2288.88</td>\n",
       "      <td>2288.88</td>\n",
       "      <td>3846020000</td>\n",
       "    </tr>\n",
       "    <tr>\n",
       "      <th>2017-01-26</th>\n",
       "      <td>2296.68</td>\n",
       "      <td>2296.68</td>\n",
       "      <td>2300.99</td>\n",
       "      <td>2294.08</td>\n",
       "      <td>2298.63</td>\n",
       "      <td>3610360000</td>\n",
       "    </tr>\n",
       "  </tbody>\n",
       "</table>\n",
       "</div>"
      ],
      "text/plain": [
       "            Adj Close    Close     High      Low     Open      Volume\n",
       "Date                                                                 \n",
       "2017-01-20    2271.31  2271.31  2276.96  2265.01  2269.96  3524970000\n",
       "2017-01-23    2265.20  2265.20  2271.78  2257.02  2267.78  3152710000\n",
       "2017-01-24    2280.07  2280.07  2284.63  2266.68  2267.88  3810960000\n",
       "2017-01-25    2298.37  2298.37  2299.55  2288.88  2288.88  3846020000\n",
       "2017-01-26    2296.68  2296.68  2300.99  2294.08  2298.63  3610360000"
      ]
     },
     "execution_count": 552,
     "metadata": {},
     "output_type": "execute_result"
    }
   ],
   "source": [
    "import matplotlib.pyplot as plt\n",
    "import fix_yahoo_finance as yf  \n",
    "stk = yf.download('^GSPC','2017-01-20','2019-10-03')\n",
    "stk.head()"
   ]
  },
  {
   "cell_type": "code",
   "execution_count": 553,
   "metadata": {
    "collapsed": true
   },
   "outputs": [],
   "source": [
    "stk = stk.reset_index()\n",
    "stk = stk.sort_values(by = 'Date')"
   ]
  },
  {
   "cell_type": "code",
   "execution_count": 554,
   "metadata": {
    "collapsed": false
   },
   "outputs": [
    {
     "data": {
      "text/html": [
       "<div>\n",
       "<style scoped>\n",
       "    .dataframe tbody tr th:only-of-type {\n",
       "        vertical-align: middle;\n",
       "    }\n",
       "\n",
       "    .dataframe tbody tr th {\n",
       "        vertical-align: top;\n",
       "    }\n",
       "\n",
       "    .dataframe thead th {\n",
       "        text-align: right;\n",
       "    }\n",
       "</style>\n",
       "<table border=\"1\" class=\"dataframe\">\n",
       "  <thead>\n",
       "    <tr style=\"text-align: right;\">\n",
       "      <th></th>\n",
       "      <th>Date</th>\n",
       "      <th>Adj Close</th>\n",
       "      <th>Close</th>\n",
       "      <th>High</th>\n",
       "      <th>Low</th>\n",
       "      <th>Open</th>\n",
       "      <th>Volume</th>\n",
       "    </tr>\n",
       "  </thead>\n",
       "  <tbody>\n",
       "    <tr>\n",
       "      <th>0</th>\n",
       "      <td>2017-01-20</td>\n",
       "      <td>2271.31</td>\n",
       "      <td>2271.31</td>\n",
       "      <td>2276.96</td>\n",
       "      <td>2265.01</td>\n",
       "      <td>2269.96</td>\n",
       "      <td>3524970000</td>\n",
       "    </tr>\n",
       "    <tr>\n",
       "      <th>1</th>\n",
       "      <td>2017-01-23</td>\n",
       "      <td>2265.20</td>\n",
       "      <td>2265.20</td>\n",
       "      <td>2271.78</td>\n",
       "      <td>2257.02</td>\n",
       "      <td>2267.78</td>\n",
       "      <td>3152710000</td>\n",
       "    </tr>\n",
       "    <tr>\n",
       "      <th>2</th>\n",
       "      <td>2017-01-24</td>\n",
       "      <td>2280.07</td>\n",
       "      <td>2280.07</td>\n",
       "      <td>2284.63</td>\n",
       "      <td>2266.68</td>\n",
       "      <td>2267.88</td>\n",
       "      <td>3810960000</td>\n",
       "    </tr>\n",
       "    <tr>\n",
       "      <th>3</th>\n",
       "      <td>2017-01-25</td>\n",
       "      <td>2298.37</td>\n",
       "      <td>2298.37</td>\n",
       "      <td>2299.55</td>\n",
       "      <td>2288.88</td>\n",
       "      <td>2288.88</td>\n",
       "      <td>3846020000</td>\n",
       "    </tr>\n",
       "    <tr>\n",
       "      <th>4</th>\n",
       "      <td>2017-01-26</td>\n",
       "      <td>2296.68</td>\n",
       "      <td>2296.68</td>\n",
       "      <td>2300.99</td>\n",
       "      <td>2294.08</td>\n",
       "      <td>2298.63</td>\n",
       "      <td>3610360000</td>\n",
       "    </tr>\n",
       "  </tbody>\n",
       "</table>\n",
       "</div>"
      ],
      "text/plain": [
       "        Date  Adj Close    Close     High      Low     Open      Volume\n",
       "0 2017-01-20    2271.31  2271.31  2276.96  2265.01  2269.96  3524970000\n",
       "1 2017-01-23    2265.20  2265.20  2271.78  2257.02  2267.78  3152710000\n",
       "2 2017-01-24    2280.07  2280.07  2284.63  2266.68  2267.88  3810960000\n",
       "3 2017-01-25    2298.37  2298.37  2299.55  2288.88  2288.88  3846020000\n",
       "4 2017-01-26    2296.68  2296.68  2300.99  2294.08  2298.63  3610360000"
      ]
     },
     "execution_count": 554,
     "metadata": {},
     "output_type": "execute_result"
    }
   ],
   "source": [
    "stk.head()"
   ]
  },
  {
   "cell_type": "code",
   "execution_count": 555,
   "metadata": {
    "collapsed": false
   },
   "outputs": [
    {
     "data": {
      "text/html": [
       "<div>\n",
       "<style scoped>\n",
       "    .dataframe tbody tr th:only-of-type {\n",
       "        vertical-align: middle;\n",
       "    }\n",
       "\n",
       "    .dataframe tbody tr th {\n",
       "        vertical-align: top;\n",
       "    }\n",
       "\n",
       "    .dataframe thead th {\n",
       "        text-align: right;\n",
       "    }\n",
       "</style>\n",
       "<table border=\"1\" class=\"dataframe\">\n",
       "  <thead>\n",
       "    <tr style=\"text-align: right;\">\n",
       "      <th></th>\n",
       "      <th>Date</th>\n",
       "      <th>Adj Close</th>\n",
       "      <th>Close</th>\n",
       "      <th>High</th>\n",
       "      <th>Low</th>\n",
       "      <th>Open</th>\n",
       "      <th>Volume</th>\n",
       "    </tr>\n",
       "  </thead>\n",
       "  <tbody>\n",
       "    <tr>\n",
       "      <th>676</th>\n",
       "      <td>2019-09-27</td>\n",
       "      <td>2961.79</td>\n",
       "      <td>2961.79</td>\n",
       "      <td>2987.31</td>\n",
       "      <td>2945.53</td>\n",
       "      <td>2985.47</td>\n",
       "      <td>3243650000</td>\n",
       "    </tr>\n",
       "    <tr>\n",
       "      <th>677</th>\n",
       "      <td>2019-09-30</td>\n",
       "      <td>2976.74</td>\n",
       "      <td>2976.74</td>\n",
       "      <td>2983.85</td>\n",
       "      <td>2967.07</td>\n",
       "      <td>2967.07</td>\n",
       "      <td>3247610000</td>\n",
       "    </tr>\n",
       "    <tr>\n",
       "      <th>678</th>\n",
       "      <td>2019-10-01</td>\n",
       "      <td>2940.25</td>\n",
       "      <td>2940.25</td>\n",
       "      <td>2992.53</td>\n",
       "      <td>2938.70</td>\n",
       "      <td>2983.69</td>\n",
       "      <td>3558040000</td>\n",
       "    </tr>\n",
       "    <tr>\n",
       "      <th>679</th>\n",
       "      <td>2019-10-02</td>\n",
       "      <td>2887.61</td>\n",
       "      <td>2887.61</td>\n",
       "      <td>2924.78</td>\n",
       "      <td>2874.93</td>\n",
       "      <td>2924.78</td>\n",
       "      <td>3912520000</td>\n",
       "    </tr>\n",
       "    <tr>\n",
       "      <th>680</th>\n",
       "      <td>2019-10-03</td>\n",
       "      <td>2910.63</td>\n",
       "      <td>2910.63</td>\n",
       "      <td>2911.13</td>\n",
       "      <td>2855.94</td>\n",
       "      <td>2885.38</td>\n",
       "      <td>3503640000</td>\n",
       "    </tr>\n",
       "  </tbody>\n",
       "</table>\n",
       "</div>"
      ],
      "text/plain": [
       "          Date  Adj Close    Close     High      Low     Open      Volume\n",
       "676 2019-09-27    2961.79  2961.79  2987.31  2945.53  2985.47  3243650000\n",
       "677 2019-09-30    2976.74  2976.74  2983.85  2967.07  2967.07  3247610000\n",
       "678 2019-10-01    2940.25  2940.25  2992.53  2938.70  2983.69  3558040000\n",
       "679 2019-10-02    2887.61  2887.61  2924.78  2874.93  2924.78  3912520000\n",
       "680 2019-10-03    2910.63  2910.63  2911.13  2855.94  2885.38  3503640000"
      ]
     },
     "execution_count": 555,
     "metadata": {},
     "output_type": "execute_result"
    }
   ],
   "source": [
    "stk.tail()"
   ]
  },
  {
   "cell_type": "code",
   "execution_count": 556,
   "metadata": {
    "collapsed": false
   },
   "outputs": [
    {
     "data": {
      "text/plain": [
       "681"
      ]
     },
     "execution_count": 556,
     "metadata": {},
     "output_type": "execute_result"
    }
   ],
   "source": [
    "len(stk)"
   ]
  },
  {
   "cell_type": "code",
   "execution_count": 631,
   "metadata": {
    "collapsed": false
   },
   "outputs": [],
   "source": [
    "HisDf['Date'] = HisDf['created_at'].dt.date"
   ]
  },
  {
   "cell_type": "code",
   "execution_count": 632,
   "metadata": {
    "collapsed": false
   },
   "outputs": [
    {
     "data": {
      "text/html": [
       "<div>\n",
       "<style scoped>\n",
       "    .dataframe tbody tr th:only-of-type {\n",
       "        vertical-align: middle;\n",
       "    }\n",
       "\n",
       "    .dataframe tbody tr th {\n",
       "        vertical-align: top;\n",
       "    }\n",
       "\n",
       "    .dataframe thead th {\n",
       "        text-align: right;\n",
       "    }\n",
       "</style>\n",
       "<table border=\"1\" class=\"dataframe\">\n",
       "  <thead>\n",
       "    <tr style=\"text-align: right;\">\n",
       "      <th></th>\n",
       "      <th>id_str</th>\n",
       "      <th>Date</th>\n",
       "      <th>Year</th>\n",
       "      <th>Month</th>\n",
       "      <th>Weekday</th>\n",
       "      <th>Hour</th>\n",
       "      <th>text</th>\n",
       "      <th>created_at</th>\n",
       "    </tr>\n",
       "  </thead>\n",
       "  <tbody>\n",
       "    <tr>\n",
       "      <th>0</th>\n",
       "      <td>1179753043908268032</td>\n",
       "      <td>2019-10-03</td>\n",
       "      <td>2019</td>\n",
       "      <td>10</td>\n",
       "      <td>3</td>\n",
       "      <td>9</td>\n",
       "      <td>Fake News just like the snakes and gators in t...</td>\n",
       "      <td>2019-10-03 09:40:19-04:00</td>\n",
       "    </tr>\n",
       "    <tr>\n",
       "      <th>2</th>\n",
       "      <td>1179730204001996800</td>\n",
       "      <td>2019-10-03</td>\n",
       "      <td>2019</td>\n",
       "      <td>10</td>\n",
       "      <td>3</td>\n",
       "      <td>8</td>\n",
       "      <td>Schiff is a lowlife who should resign (at leas...</td>\n",
       "      <td>2019-10-03 08:09:33-04:00</td>\n",
       "    </tr>\n",
       "    <tr>\n",
       "      <th>9</th>\n",
       "      <td>1179721857441902593</td>\n",
       "      <td>2019-10-03</td>\n",
       "      <td>2019</td>\n",
       "      <td>10</td>\n",
       "      <td>3</td>\n",
       "      <td>7</td>\n",
       "      <td>Schiff is a lying disaster for our Country. He...</td>\n",
       "      <td>2019-10-03 07:36:23-04:00</td>\n",
       "    </tr>\n",
       "    <tr>\n",
       "      <th>10</th>\n",
       "      <td>1179721004291170304</td>\n",
       "      <td>2019-10-03</td>\n",
       "      <td>2019</td>\n",
       "      <td>10</td>\n",
       "      <td>3</td>\n",
       "      <td>7</td>\n",
       "      <td>The Republican Party has never had such suppor...</td>\n",
       "      <td>2019-10-03 07:33:00-04:00</td>\n",
       "    </tr>\n",
       "    <tr>\n",
       "      <th>11</th>\n",
       "      <td>1179720723969052672</td>\n",
       "      <td>2019-10-03</td>\n",
       "      <td>2019</td>\n",
       "      <td>10</td>\n",
       "      <td>3</td>\n",
       "      <td>7</td>\n",
       "      <td>Book is doing really well. A study in unfairne...</td>\n",
       "      <td>2019-10-03 07:31:53-04:00</td>\n",
       "    </tr>\n",
       "  </tbody>\n",
       "</table>\n",
       "</div>"
      ],
      "text/plain": [
       "                 id_str        Date  Year  Month  Weekday  Hour  \\\n",
       "0   1179753043908268032  2019-10-03  2019     10        3     9   \n",
       "2   1179730204001996800  2019-10-03  2019     10        3     8   \n",
       "9   1179721857441902593  2019-10-03  2019     10        3     7   \n",
       "10  1179721004291170304  2019-10-03  2019     10        3     7   \n",
       "11  1179720723969052672  2019-10-03  2019     10        3     7   \n",
       "\n",
       "                                                 text  \\\n",
       "0   Fake News just like the snakes and gators in t...   \n",
       "2   Schiff is a lowlife who should resign (at leas...   \n",
       "9   Schiff is a lying disaster for our Country. He...   \n",
       "10  The Republican Party has never had such suppor...   \n",
       "11  Book is doing really well. A study in unfairne...   \n",
       "\n",
       "                  created_at  \n",
       "0  2019-10-03 09:40:19-04:00  \n",
       "2  2019-10-03 08:09:33-04:00  \n",
       "9  2019-10-03 07:36:23-04:00  \n",
       "10 2019-10-03 07:33:00-04:00  \n",
       "11 2019-10-03 07:31:53-04:00  "
      ]
     },
     "execution_count": 632,
     "metadata": {},
     "output_type": "execute_result"
    }
   ],
   "source": [
    "HisDf = HisDf[HisDf['is_retweet'] == 0]\n",
    "HisDf = HisDf[['id_str','Date','Year', 'Month', 'Weekday', 'Hour', 'text', 'created_at']]\n",
    "HisDf.head()"
   ]
  },
  {
   "cell_type": "code",
   "execution_count": 633,
   "metadata": {
    "collapsed": true
   },
   "outputs": [],
   "source": [
    "HisDf['Date'] = HisDf['Date'].astype('str')\n",
    "stk['Date'] = stk['Date'].astype('str')"
   ]
  },
  {
   "cell_type": "markdown",
   "metadata": {},
   "source": [
    "### Tweets within trading time and outside trading time are handled differently"
   ]
  },
  {
   "cell_type": "code",
   "execution_count": 634,
   "metadata": {
    "collapsed": false
   },
   "outputs": [],
   "source": [
    "def createStartDateTime(Date):\n",
    "    return str(Date)+ ' 07:30'\n",
    "\n",
    "def createEndDateTime(Date):\n",
    "    return str(Date)+ ' 14:00'\n",
    "\n",
    "stk['StartDateTime'] = stk.Date.apply(createStartDateTime)\n",
    "stk['EndDateTime'] = stk.Date.apply(createEndDateTime)\n",
    "\n",
    "stk['PreEndDateTime'] = np.NaN\n",
    "stk['PreEndDateTime'][1:len(stk)] = stk['EndDateTime'][0:len(stk)-1]\n",
    "\n",
    "stk['PreClose'] = np.NaN\n",
    "stk['PreClose'][1:len(stk)] = stk['Close'][0:len(stk)-1]"
   ]
  },
  {
   "cell_type": "code",
   "execution_count": 635,
   "metadata": {
    "collapsed": false
   },
   "outputs": [
    {
     "data": {
      "text/html": [
       "<div>\n",
       "<style scoped>\n",
       "    .dataframe tbody tr th:only-of-type {\n",
       "        vertical-align: middle;\n",
       "    }\n",
       "\n",
       "    .dataframe tbody tr th {\n",
       "        vertical-align: top;\n",
       "    }\n",
       "\n",
       "    .dataframe thead th {\n",
       "        text-align: right;\n",
       "    }\n",
       "</style>\n",
       "<table border=\"1\" class=\"dataframe\">\n",
       "  <thead>\n",
       "    <tr style=\"text-align: right;\">\n",
       "      <th></th>\n",
       "      <th>Date</th>\n",
       "      <th>Adj Close</th>\n",
       "      <th>Close</th>\n",
       "      <th>High</th>\n",
       "      <th>Low</th>\n",
       "      <th>Open</th>\n",
       "      <th>Volume</th>\n",
       "      <th>StartDateTime</th>\n",
       "      <th>EndDateTime</th>\n",
       "      <th>PreEndDateTime</th>\n",
       "      <th>PreClose</th>\n",
       "    </tr>\n",
       "  </thead>\n",
       "  <tbody>\n",
       "    <tr>\n",
       "      <th>0</th>\n",
       "      <td>2017-01-20</td>\n",
       "      <td>2271.31</td>\n",
       "      <td>2271.31</td>\n",
       "      <td>2276.96</td>\n",
       "      <td>2265.01</td>\n",
       "      <td>2269.96</td>\n",
       "      <td>3524970000</td>\n",
       "      <td>2017-01-20 07:30</td>\n",
       "      <td>2017-01-20 14:00</td>\n",
       "      <td>NaN</td>\n",
       "      <td>NaN</td>\n",
       "    </tr>\n",
       "    <tr>\n",
       "      <th>1</th>\n",
       "      <td>2017-01-23</td>\n",
       "      <td>2265.20</td>\n",
       "      <td>2265.20</td>\n",
       "      <td>2271.78</td>\n",
       "      <td>2257.02</td>\n",
       "      <td>2267.78</td>\n",
       "      <td>3152710000</td>\n",
       "      <td>2017-01-23 07:30</td>\n",
       "      <td>2017-01-23 14:00</td>\n",
       "      <td>2017-01-20 14:00</td>\n",
       "      <td>2271.31</td>\n",
       "    </tr>\n",
       "    <tr>\n",
       "      <th>2</th>\n",
       "      <td>2017-01-24</td>\n",
       "      <td>2280.07</td>\n",
       "      <td>2280.07</td>\n",
       "      <td>2284.63</td>\n",
       "      <td>2266.68</td>\n",
       "      <td>2267.88</td>\n",
       "      <td>3810960000</td>\n",
       "      <td>2017-01-24 07:30</td>\n",
       "      <td>2017-01-24 14:00</td>\n",
       "      <td>2017-01-23 14:00</td>\n",
       "      <td>2265.20</td>\n",
       "    </tr>\n",
       "    <tr>\n",
       "      <th>3</th>\n",
       "      <td>2017-01-25</td>\n",
       "      <td>2298.37</td>\n",
       "      <td>2298.37</td>\n",
       "      <td>2299.55</td>\n",
       "      <td>2288.88</td>\n",
       "      <td>2288.88</td>\n",
       "      <td>3846020000</td>\n",
       "      <td>2017-01-25 07:30</td>\n",
       "      <td>2017-01-25 14:00</td>\n",
       "      <td>2017-01-24 14:00</td>\n",
       "      <td>2280.07</td>\n",
       "    </tr>\n",
       "    <tr>\n",
       "      <th>4</th>\n",
       "      <td>2017-01-26</td>\n",
       "      <td>2296.68</td>\n",
       "      <td>2296.68</td>\n",
       "      <td>2300.99</td>\n",
       "      <td>2294.08</td>\n",
       "      <td>2298.63</td>\n",
       "      <td>3610360000</td>\n",
       "      <td>2017-01-26 07:30</td>\n",
       "      <td>2017-01-26 14:00</td>\n",
       "      <td>2017-01-25 14:00</td>\n",
       "      <td>2298.37</td>\n",
       "    </tr>\n",
       "  </tbody>\n",
       "</table>\n",
       "</div>"
      ],
      "text/plain": [
       "         Date  Adj Close    Close     High      Low     Open      Volume  \\\n",
       "0  2017-01-20    2271.31  2271.31  2276.96  2265.01  2269.96  3524970000   \n",
       "1  2017-01-23    2265.20  2265.20  2271.78  2257.02  2267.78  3152710000   \n",
       "2  2017-01-24    2280.07  2280.07  2284.63  2266.68  2267.88  3810960000   \n",
       "3  2017-01-25    2298.37  2298.37  2299.55  2288.88  2288.88  3846020000   \n",
       "4  2017-01-26    2296.68  2296.68  2300.99  2294.08  2298.63  3610360000   \n",
       "\n",
       "      StartDateTime       EndDateTime    PreEndDateTime  PreClose  \n",
       "0  2017-01-20 07:30  2017-01-20 14:00               NaN       NaN  \n",
       "1  2017-01-23 07:30  2017-01-23 14:00  2017-01-20 14:00   2271.31  \n",
       "2  2017-01-24 07:30  2017-01-24 14:00  2017-01-23 14:00   2265.20  \n",
       "3  2017-01-25 07:30  2017-01-25 14:00  2017-01-24 14:00   2280.07  \n",
       "4  2017-01-26 07:30  2017-01-26 14:00  2017-01-25 14:00   2298.37  "
      ]
     },
     "execution_count": 635,
     "metadata": {},
     "output_type": "execute_result"
    }
   ],
   "source": [
    "stk.head()"
   ]
  },
  {
   "cell_type": "code",
   "execution_count": 636,
   "metadata": {
    "collapsed": false
   },
   "outputs": [
    {
     "data": {
      "text/html": [
       "<div>\n",
       "<style scoped>\n",
       "    .dataframe tbody tr th:only-of-type {\n",
       "        vertical-align: middle;\n",
       "    }\n",
       "\n",
       "    .dataframe tbody tr th {\n",
       "        vertical-align: top;\n",
       "    }\n",
       "\n",
       "    .dataframe thead th {\n",
       "        text-align: right;\n",
       "    }\n",
       "</style>\n",
       "<table border=\"1\" class=\"dataframe\">\n",
       "  <thead>\n",
       "    <tr style=\"text-align: right;\">\n",
       "      <th></th>\n",
       "      <th>id_str</th>\n",
       "      <th>Date</th>\n",
       "      <th>Year</th>\n",
       "      <th>Month</th>\n",
       "      <th>Weekday</th>\n",
       "      <th>Hour</th>\n",
       "      <th>text</th>\n",
       "      <th>created_at</th>\n",
       "    </tr>\n",
       "  </thead>\n",
       "  <tbody>\n",
       "    <tr>\n",
       "      <th>0</th>\n",
       "      <td>1179753043908268032</td>\n",
       "      <td>2019-10-03</td>\n",
       "      <td>2019</td>\n",
       "      <td>10</td>\n",
       "      <td>3</td>\n",
       "      <td>9</td>\n",
       "      <td>Fake News just like the snakes and gators in t...</td>\n",
       "      <td>2019-10-03 09:40:19-04:00</td>\n",
       "    </tr>\n",
       "    <tr>\n",
       "      <th>2</th>\n",
       "      <td>1179730204001996800</td>\n",
       "      <td>2019-10-03</td>\n",
       "      <td>2019</td>\n",
       "      <td>10</td>\n",
       "      <td>3</td>\n",
       "      <td>8</td>\n",
       "      <td>Schiff is a lowlife who should resign (at leas...</td>\n",
       "      <td>2019-10-03 08:09:33-04:00</td>\n",
       "    </tr>\n",
       "    <tr>\n",
       "      <th>9</th>\n",
       "      <td>1179721857441902593</td>\n",
       "      <td>2019-10-03</td>\n",
       "      <td>2019</td>\n",
       "      <td>10</td>\n",
       "      <td>3</td>\n",
       "      <td>7</td>\n",
       "      <td>Schiff is a lying disaster for our Country. He...</td>\n",
       "      <td>2019-10-03 07:36:23-04:00</td>\n",
       "    </tr>\n",
       "    <tr>\n",
       "      <th>10</th>\n",
       "      <td>1179721004291170304</td>\n",
       "      <td>2019-10-03</td>\n",
       "      <td>2019</td>\n",
       "      <td>10</td>\n",
       "      <td>3</td>\n",
       "      <td>7</td>\n",
       "      <td>The Republican Party has never had such suppor...</td>\n",
       "      <td>2019-10-03 07:33:00-04:00</td>\n",
       "    </tr>\n",
       "    <tr>\n",
       "      <th>11</th>\n",
       "      <td>1179720723969052672</td>\n",
       "      <td>2019-10-03</td>\n",
       "      <td>2019</td>\n",
       "      <td>10</td>\n",
       "      <td>3</td>\n",
       "      <td>7</td>\n",
       "      <td>Book is doing really well. A study in unfairne...</td>\n",
       "      <td>2019-10-03 07:31:53-04:00</td>\n",
       "    </tr>\n",
       "  </tbody>\n",
       "</table>\n",
       "</div>"
      ],
      "text/plain": [
       "                 id_str        Date  Year  Month  Weekday  Hour  \\\n",
       "0   1179753043908268032  2019-10-03  2019     10        3     9   \n",
       "2   1179730204001996800  2019-10-03  2019     10        3     8   \n",
       "9   1179721857441902593  2019-10-03  2019     10        3     7   \n",
       "10  1179721004291170304  2019-10-03  2019     10        3     7   \n",
       "11  1179720723969052672  2019-10-03  2019     10        3     7   \n",
       "\n",
       "                                                 text  \\\n",
       "0   Fake News just like the snakes and gators in t...   \n",
       "2   Schiff is a lowlife who should resign (at leas...   \n",
       "9   Schiff is a lying disaster for our Country. He...   \n",
       "10  The Republican Party has never had such suppor...   \n",
       "11  Book is doing really well. A study in unfairne...   \n",
       "\n",
       "                  created_at  \n",
       "0  2019-10-03 09:40:19-04:00  \n",
       "2  2019-10-03 08:09:33-04:00  \n",
       "9  2019-10-03 07:36:23-04:00  \n",
       "10 2019-10-03 07:33:00-04:00  \n",
       "11 2019-10-03 07:31:53-04:00  "
      ]
     },
     "execution_count": 636,
     "metadata": {},
     "output_type": "execute_result"
    }
   ],
   "source": [
    "HisDf.head()"
   ]
  },
  {
   "cell_type": "code",
   "execution_count": 637,
   "metadata": {
    "collapsed": false
   },
   "outputs": [
    {
     "data": {
      "text/html": [
       "<div>\n",
       "<style scoped>\n",
       "    .dataframe tbody tr th:only-of-type {\n",
       "        vertical-align: middle;\n",
       "    }\n",
       "\n",
       "    .dataframe tbody tr th {\n",
       "        vertical-align: top;\n",
       "    }\n",
       "\n",
       "    .dataframe thead th {\n",
       "        text-align: right;\n",
       "    }\n",
       "</style>\n",
       "<table border=\"1\" class=\"dataframe\">\n",
       "  <thead>\n",
       "    <tr style=\"text-align: right;\">\n",
       "      <th></th>\n",
       "      <th>id_str</th>\n",
       "      <th>Date</th>\n",
       "      <th>text</th>\n",
       "      <th>Ratio</th>\n",
       "    </tr>\n",
       "  </thead>\n",
       "  <tbody>\n",
       "    <tr>\n",
       "      <th>0</th>\n",
       "      <td>1179753043908268032</td>\n",
       "      <td>2019-10-03</td>\n",
       "      <td>Fake News just like the snakes and gators in t...</td>\n",
       "      <td>1.008751</td>\n",
       "    </tr>\n",
       "    <tr>\n",
       "      <th>1</th>\n",
       "      <td>1179730204001996800</td>\n",
       "      <td>2019-10-03</td>\n",
       "      <td>Schiff is a lowlife who should resign (at leas...</td>\n",
       "      <td>1.008751</td>\n",
       "    </tr>\n",
       "    <tr>\n",
       "      <th>2</th>\n",
       "      <td>1179721857441902593</td>\n",
       "      <td>2019-10-03</td>\n",
       "      <td>Schiff is a lying disaster for our Country. He...</td>\n",
       "      <td>1.008751</td>\n",
       "    </tr>\n",
       "    <tr>\n",
       "      <th>3</th>\n",
       "      <td>1179721004291170304</td>\n",
       "      <td>2019-10-03</td>\n",
       "      <td>The Republican Party has never had such suppor...</td>\n",
       "      <td>1.008751</td>\n",
       "    </tr>\n",
       "    <tr>\n",
       "      <th>4</th>\n",
       "      <td>1179720723969052672</td>\n",
       "      <td>2019-10-03</td>\n",
       "      <td>Book is doing really well. A study in unfairne...</td>\n",
       "      <td>1.008751</td>\n",
       "    </tr>\n",
       "  </tbody>\n",
       "</table>\n",
       "</div>"
      ],
      "text/plain": [
       "                id_str        Date  \\\n",
       "0  1179753043908268032  2019-10-03   \n",
       "1  1179730204001996800  2019-10-03   \n",
       "2  1179721857441902593  2019-10-03   \n",
       "3  1179721004291170304  2019-10-03   \n",
       "4  1179720723969052672  2019-10-03   \n",
       "\n",
       "                                                text     Ratio  \n",
       "0  Fake News just like the snakes and gators in t...  1.008751  \n",
       "1  Schiff is a lowlife who should resign (at leas...  1.008751  \n",
       "2  Schiff is a lying disaster for our Country. He...  1.008751  \n",
       "3  The Republican Party has never had such suppor...  1.008751  \n",
       "4  Book is doing really well. A study in unfairne...  1.008751  "
      ]
     },
     "execution_count": 637,
     "metadata": {},
     "output_type": "execute_result"
    }
   ],
   "source": [
    "query = \"\"\"\n",
    "select a.id_str,a.Date, a.text\n",
    "--, b.StartDateTime, b.EndDateTime\n",
    ",b.Close /b.Open as Ratio\n",
    "from HisDf a\n",
    "join stk b\n",
    "on a.created_at between b.StartDateTime and b.EndDateTime;\n",
    "\"\"\"\n",
    "\n",
    "trdTimeDf = ps.sqldf(query, locals())\n",
    "trdTimeDf.head()"
   ]
  },
  {
   "cell_type": "code",
   "execution_count": 638,
   "metadata": {
    "collapsed": false
   },
   "outputs": [
    {
     "data": {
      "text/html": [
       "<div>\n",
       "<style scoped>\n",
       "    .dataframe tbody tr th:only-of-type {\n",
       "        vertical-align: middle;\n",
       "    }\n",
       "\n",
       "    .dataframe tbody tr th {\n",
       "        vertical-align: top;\n",
       "    }\n",
       "\n",
       "    .dataframe thead th {\n",
       "        text-align: right;\n",
       "    }\n",
       "</style>\n",
       "<table border=\"1\" class=\"dataframe\">\n",
       "  <thead>\n",
       "    <tr style=\"text-align: right;\">\n",
       "      <th></th>\n",
       "      <th>id_str</th>\n",
       "      <th>Date</th>\n",
       "      <th>text</th>\n",
       "      <th>Ratio</th>\n",
       "    </tr>\n",
       "  </thead>\n",
       "  <tbody>\n",
       "    <tr>\n",
       "      <th>0</th>\n",
       "      <td>1179720222351269888</td>\n",
       "      <td>2019-10-03</td>\n",
       "      <td>Thank you Hugh! https://t.co/So77AMeK5u</td>\n",
       "      <td>0.999228</td>\n",
       "    </tr>\n",
       "    <tr>\n",
       "      <th>1</th>\n",
       "      <td>1179719951881576448</td>\n",
       "      <td>2019-10-03</td>\n",
       "      <td>A great book by a brilliant author. Buy it now...</td>\n",
       "      <td>0.999228</td>\n",
       "    </tr>\n",
       "    <tr>\n",
       "      <th>2</th>\n",
       "      <td>1179718467060211713</td>\n",
       "      <td>2019-10-03</td>\n",
       "      <td>Great job Richard! https://t.co/Uv8xgZPshu</td>\n",
       "      <td>0.999228</td>\n",
       "    </tr>\n",
       "    <tr>\n",
       "      <th>3</th>\n",
       "      <td>1179710734030249984</td>\n",
       "      <td>2019-10-03</td>\n",
       "      <td>Keep up the great work Kellie! https://t.co/Pc...</td>\n",
       "      <td>0.999228</td>\n",
       "    </tr>\n",
       "    <tr>\n",
       "      <th>4</th>\n",
       "      <td>1179707050743488512</td>\n",
       "      <td>2019-10-03</td>\n",
       "      <td>“The Ukraine controversy continues this mornin...</td>\n",
       "      <td>0.999228</td>\n",
       "    </tr>\n",
       "  </tbody>\n",
       "</table>\n",
       "</div>"
      ],
      "text/plain": [
       "                id_str        Date  \\\n",
       "0  1179720222351269888  2019-10-03   \n",
       "1  1179719951881576448  2019-10-03   \n",
       "2  1179718467060211713  2019-10-03   \n",
       "3  1179710734030249984  2019-10-03   \n",
       "4  1179707050743488512  2019-10-03   \n",
       "\n",
       "                                                text     Ratio  \n",
       "0            Thank you Hugh! https://t.co/So77AMeK5u  0.999228  \n",
       "1  A great book by a brilliant author. Buy it now...  0.999228  \n",
       "2         Great job Richard! https://t.co/Uv8xgZPshu  0.999228  \n",
       "3  Keep up the great work Kellie! https://t.co/Pc...  0.999228  \n",
       "4  “The Ukraine controversy continues this mornin...  0.999228  "
      ]
     },
     "execution_count": 638,
     "metadata": {},
     "output_type": "execute_result"
    }
   ],
   "source": [
    "query = \"\"\"\n",
    "select a.id_str, b.Date \n",
    ", a.text\n",
    "--, b.StartDateTime, b.EndDateTime\n",
    ",b.Open / b.PreClose as Ratio\n",
    "from HisDf a\n",
    "join stk b\n",
    "on a.created_at between b.PreEndDateTime and b.StartDateTime  ;\n",
    "\"\"\"\n",
    "\n",
    "OffTimeDf = ps.sqldf(query, locals())\n",
    "OffTimeDf.head()"
   ]
  },
  {
   "cell_type": "code",
   "execution_count": 639,
   "metadata": {
    "collapsed": true
   },
   "outputs": [],
   "source": [
    "trdTimeDf['Date'] = trdTimeDf['Date'] + '_a'\n",
    "OffTimeDf['Date'] = OffTimeDf['Date'] + '_b'"
   ]
  },
  {
   "cell_type": "code",
   "execution_count": 660,
   "metadata": {
    "collapsed": false
   },
   "outputs": [
    {
     "data": {
      "text/html": [
       "<div>\n",
       "<style scoped>\n",
       "    .dataframe tbody tr th:only-of-type {\n",
       "        vertical-align: middle;\n",
       "    }\n",
       "\n",
       "    .dataframe tbody tr th {\n",
       "        vertical-align: top;\n",
       "    }\n",
       "\n",
       "    .dataframe thead th {\n",
       "        text-align: right;\n",
       "    }\n",
       "</style>\n",
       "<table border=\"1\" class=\"dataframe\">\n",
       "  <thead>\n",
       "    <tr style=\"text-align: right;\">\n",
       "      <th></th>\n",
       "      <th>id_str</th>\n",
       "      <th>Date</th>\n",
       "      <th>text</th>\n",
       "      <th>Ratio</th>\n",
       "    </tr>\n",
       "  </thead>\n",
       "  <tbody>\n",
       "    <tr>\n",
       "      <th>0</th>\n",
       "      <td>1179753043908268032</td>\n",
       "      <td>2019-10-03_a</td>\n",
       "      <td>Fake News just like the snakes and gators in t...</td>\n",
       "      <td>1.008751</td>\n",
       "    </tr>\n",
       "    <tr>\n",
       "      <th>1</th>\n",
       "      <td>1179730204001996800</td>\n",
       "      <td>2019-10-03_a</td>\n",
       "      <td>Schiff is a lowlife who should resign (at leas...</td>\n",
       "      <td>1.008751</td>\n",
       "    </tr>\n",
       "    <tr>\n",
       "      <th>2</th>\n",
       "      <td>1179721857441902593</td>\n",
       "      <td>2019-10-03_a</td>\n",
       "      <td>Schiff is a lying disaster for our Country. He...</td>\n",
       "      <td>1.008751</td>\n",
       "    </tr>\n",
       "    <tr>\n",
       "      <th>3</th>\n",
       "      <td>1179721004291170304</td>\n",
       "      <td>2019-10-03_a</td>\n",
       "      <td>The Republican Party has never had such suppor...</td>\n",
       "      <td>1.008751</td>\n",
       "    </tr>\n",
       "    <tr>\n",
       "      <th>4</th>\n",
       "      <td>1179720723969052672</td>\n",
       "      <td>2019-10-03_a</td>\n",
       "      <td>Book is doing really well. A study in unfairne...</td>\n",
       "      <td>1.008751</td>\n",
       "    </tr>\n",
       "  </tbody>\n",
       "</table>\n",
       "</div>"
      ],
      "text/plain": [
       "                id_str          Date  \\\n",
       "0  1179753043908268032  2019-10-03_a   \n",
       "1  1179730204001996800  2019-10-03_a   \n",
       "2  1179721857441902593  2019-10-03_a   \n",
       "3  1179721004291170304  2019-10-03_a   \n",
       "4  1179720723969052672  2019-10-03_a   \n",
       "\n",
       "                                                text     Ratio  \n",
       "0  Fake News just like the snakes and gators in t...  1.008751  \n",
       "1  Schiff is a lowlife who should resign (at leas...  1.008751  \n",
       "2  Schiff is a lying disaster for our Country. He...  1.008751  \n",
       "3  The Republican Party has never had such suppor...  1.008751  \n",
       "4  Book is doing really well. A study in unfairne...  1.008751  "
      ]
     },
     "execution_count": 660,
     "metadata": {},
     "output_type": "execute_result"
    }
   ],
   "source": [
    "MergedDf = pd.concat([trdTimeDf, OffTimeDf], axis = 0)\n",
    "MergedDf.head()"
   ]
  },
  {
   "cell_type": "code",
   "execution_count": 661,
   "metadata": {
    "collapsed": false
   },
   "outputs": [
    {
     "data": {
      "text/plain": [
       "8413"
      ]
     },
     "execution_count": 661,
     "metadata": {},
     "output_type": "execute_result"
    }
   ],
   "source": [
    "len(MergedDf)"
   ]
  },
  {
   "cell_type": "code",
   "execution_count": 662,
   "metadata": {
    "collapsed": false
   },
   "outputs": [
    {
     "data": {
      "text/plain": [
       "<matplotlib.axes._subplots.AxesSubplot at 0x186c7812978>"
      ]
     },
     "execution_count": 662,
     "metadata": {},
     "output_type": "execute_result"
    },
    {
     "data": {
      "image/png": "[encoded data removed]",
      "text/plain": [
       "<matplotlib.figure.Figure at 0x186c667ff28>"
      ]
     },
     "metadata": {},
     "output_type": "display_data"
    }
   ],
   "source": [
    "MergedDf['Ratio'].hist(bins = 50)"
   ]
  },
  {
   "cell_type": "markdown",
   "metadata": {},
   "source": [
    "### Data Cleansing"
   ]
  },
  {
   "cell_type": "code",
   "execution_count": 663,
   "metadata": {
    "collapsed": false
   },
   "outputs": [],
   "source": [
    "def removeUrl(s):\n",
    "    return re.sub(r'http[:/.a-zA-Z0-o]+', '',s)\n",
    "\n",
    "def removeUser(s):\n",
    "    return re.sub(r'@[a-zA-Z0-o]+', '',s)\n",
    "\n",
    "def deEmojify(inputString):\n",
    "    return inputString.encode('ascii', 'ignore').decode('ascii')"
   ]
  },
  {
   "cell_type": "code",
   "execution_count": 664,
   "metadata": {
    "collapsed": true
   },
   "outputs": [],
   "source": [
    "MergedDf['text'] = MergedDf['text'].apply(removeUrl)\n",
    "MergedDf['text'] = MergedDf['text'].apply(removeUser)\n",
    "MergedDf['text'] = MergedDf['text'].apply(deEmojify)"
   ]
  },
  {
   "cell_type": "code",
   "execution_count": 665,
   "metadata": {
    "collapsed": false
   },
   "outputs": [
    {
     "name": "stdout",
     "output_type": "stream",
     "text": [
      "THE GREATEST SCAM IN THE HISTORY OF AMERICAN POLITICS! \n",
      "\n",
      "Thank you Jim!  \n",
      "\n",
      "If they actually did this the markets would crash. Do you think it was luck that got us to the best Stock Market and Economy in our history. It wasnt!  \n",
      "\n",
      "So bad for our Country!  \n",
      "\n",
      "So cute! Her father is under siege for no reason since his first day in office!  \n",
      "\n",
      "One of our best fundraising days EVER!  \n",
      "\n",
      "So true but it will never work!  \n",
      "\n",
      " \n",
      "\n",
      " \n",
      "\n",
      "I have informed  Kevin McCarthy and all Republicans in the House that I fully support transparency on so-called whistleblower information but also insist on transparency from Joe Biden and his son Hunter on the millions of dollars that have been quickly and easily.... \n",
      "\n",
      "....taken out of Ukraine and China. Additionally I demand transparency from Democrats that went to Ukraine and attempted to force the new President to do things that they wanted under the form of political threat. \n",
      "\n",
      "Wow! Ukraine Whistleblowers lead attorney donated to Biden.  \n",
      "\n"
     ]
    }
   ],
   "source": [
    "txt = MergedDf['text'][MergedDf['Date'] == '2019-09-26_b' ]\n",
    "for s in txt:\n",
    "    print(s, '\\n')"
   ]
  },
  {
   "cell_type": "code",
   "execution_count": 666,
   "metadata": {
    "collapsed": false
   },
   "outputs": [
    {
     "data": {
      "text/plain": [
       "count    8413.000000\n",
       "mean        0.999908\n",
       "std         0.005135\n",
       "min         0.961263\n",
       "25%         0.997943\n",
       "50%         1.000260\n",
       "75%         1.002335\n",
       "max         1.030733\n",
       "Name: Ratio, dtype: float64"
      ]
     },
     "execution_count": 666,
     "metadata": {},
     "output_type": "execute_result"
    }
   ],
   "source": [
    "MergedDf['Ratio'].describe()"
   ]
  },
  {
   "cell_type": "code",
   "execution_count": 667,
   "metadata": {
    "collapsed": false
   },
   "outputs": [],
   "source": [
    "from sklearn.preprocessing import RobustScaler\n",
    "xx = RobustScaler().fit_transform(np.array(MergedDf['Ratio']).reshape(-1,1))"
   ]
  },
  {
   "cell_type": "code",
   "execution_count": 668,
   "metadata": {
    "collapsed": false
   },
   "outputs": [
    {
     "data": {
      "text/plain": [
       "<matplotlib.axes._subplots.AxesSubplot at 0x186c85bfa20>"
      ]
     },
     "execution_count": 668,
     "metadata": {},
     "output_type": "execute_result"
    },
    {
     "data": {
      "image/png": "[encoded data removed]",
      "text/plain": [
       "<matplotlib.figure.Figure at 0x186c8581e80>"
      ]
     },
     "metadata": {},
     "output_type": "display_data"
    }
   ],
   "source": [
    "MergedDf['RatioScaled'] = xx\n",
    "MergedDf['RatioScaled'].hist(bins = 50)"
   ]
  },
  {
   "cell_type": "code",
   "execution_count": 669,
   "metadata": {
    "collapsed": false
   },
   "outputs": [],
   "source": [
    "MergedDf = MergedDf.drop_duplicates()"
   ]
  },
  {
   "cell_type": "code",
   "execution_count": 670,
   "metadata": {
    "collapsed": false
   },
   "outputs": [
    {
     "data": {
      "text/plain": [
       "8413"
      ]
     },
     "execution_count": 670,
     "metadata": {},
     "output_type": "execute_result"
    }
   ],
   "source": [
    "len(MergedDf)"
   ]
  },
  {
   "cell_type": "code",
   "execution_count": 709,
   "metadata": {
    "collapsed": true
   },
   "outputs": [],
   "source": [
    "MergedDf1 = MergedDf[['Date', 'Ratio','RatioScaled', 'text']]"
   ]
  },
  {
   "cell_type": "code",
   "execution_count": 710,
   "metadata": {
    "collapsed": false
   },
   "outputs": [
    {
     "data": {
      "text/plain": [
       "1226"
      ]
     },
     "execution_count": 710,
     "metadata": {},
     "output_type": "execute_result"
    }
   ],
   "source": [
    "MergedDf1 = MergedDf1.groupby(['Date', 'Ratio','RatioScaled'])['text'].apply('. '.join).reset_index()\n",
    "len(MergedDf1)"
   ]
  },
  {
   "cell_type": "code",
   "execution_count": 711,
   "metadata": {
    "collapsed": false
   },
   "outputs": [
    {
     "data": {
      "text/plain": [
       "count    1226.000000\n",
       "mean        1.000136\n",
       "std         0.005542\n",
       "min         0.961263\n",
       "25%         0.998217\n",
       "50%         1.000460\n",
       "75%         1.002747\n",
       "max         1.030733\n",
       "Name: Ratio, dtype: float64"
      ]
     },
     "execution_count": 711,
     "metadata": {},
     "output_type": "execute_result"
    }
   ],
   "source": [
    "MergedDf1['Ratio'].describe()"
   ]
  },
  {
   "cell_type": "code",
   "execution_count": 760,
   "metadata": {
    "collapsed": false
   },
   "outputs": [
    {
     "data": {
      "text/plain": [
       "0    283\n",
       "1    205\n",
       "Name: Category, dtype: int64"
      ]
     },
     "execution_count": 760,
     "metadata": {},
     "output_type": "execute_result"
    }
   ],
   "source": [
    "MergedDf1['Category'] = -1\n",
    "MergedDf1['Category'][MergedDf1['Ratio'] >= 1.003] = 0\n",
    "MergedDf1['Category'][MergedDf1['Ratio'] <= 0.997] = 1\n",
    "\n",
    "MergedDf1 = MergedDf1[MergedDf1['Category'] != -1]\n",
    "MergedDf1.reset_index(drop=True, inplace=True)\n",
    "MergedDf1['Category'].value_counts()"
   ]
  },
  {
   "cell_type": "code",
   "execution_count": 761,
   "metadata": {
    "collapsed": false
   },
   "outputs": [
    {
     "data": {
      "text/html": [
       "<div>\n",
       "<style scoped>\n",
       "    .dataframe tbody tr th:only-of-type {\n",
       "        vertical-align: middle;\n",
       "    }\n",
       "\n",
       "    .dataframe tbody tr th {\n",
       "        vertical-align: top;\n",
       "    }\n",
       "\n",
       "    .dataframe thead th {\n",
       "        text-align: right;\n",
       "    }\n",
       "</style>\n",
       "<table border=\"1\" class=\"dataframe\">\n",
       "  <thead>\n",
       "    <tr style=\"text-align: right;\">\n",
       "      <th></th>\n",
       "      <th>Date</th>\n",
       "      <th>Ratio</th>\n",
       "      <th>RatioScaled</th>\n",
       "      <th>text</th>\n",
       "      <th>Category</th>\n",
       "    </tr>\n",
       "  </thead>\n",
       "  <tbody>\n",
       "    <tr>\n",
       "      <th>483</th>\n",
       "      <td>2019-09-30_a</td>\n",
       "      <td>1.003259</td>\n",
       "      <td>0.682897</td>\n",
       "      <td>It was my Great Honor to attend this mornings ...</td>\n",
       "      <td>0</td>\n",
       "    </tr>\n",
       "    <tr>\n",
       "      <th>484</th>\n",
       "      <td>2019-10-01_a</td>\n",
       "      <td>0.985441</td>\n",
       "      <td>-3.374633</td>\n",
       "      <td>Why isnt Congressman Adam Schiff being brought...</td>\n",
       "      <td>1</td>\n",
       "    </tr>\n",
       "    <tr>\n",
       "      <th>485</th>\n",
       "      <td>2019-10-02_a</td>\n",
       "      <td>0.987291</td>\n",
       "      <td>-2.953241</td>\n",
       "      <td>The Do Nothing Democrats should be focused on ...</td>\n",
       "      <td>1</td>\n",
       "    </tr>\n",
       "    <tr>\n",
       "      <th>486</th>\n",
       "      <td>2019-10-02_b</td>\n",
       "      <td>0.994739</td>\n",
       "      <td>-1.257385</td>\n",
       "      <td>The Greatest Witch Hunt in the history of our ...</td>\n",
       "      <td>1</td>\n",
       "    </tr>\n",
       "    <tr>\n",
       "      <th>487</th>\n",
       "      <td>2019-10-03_a</td>\n",
       "      <td>1.008751</td>\n",
       "      <td>1.933500</td>\n",
       "      <td>Fake News just like the snakes and gators in t...</td>\n",
       "      <td>0</td>\n",
       "    </tr>\n",
       "  </tbody>\n",
       "</table>\n",
       "</div>"
      ],
      "text/plain": [
       "             Date     Ratio  RatioScaled  \\\n",
       "483  2019-09-30_a  1.003259     0.682897   \n",
       "484  2019-10-01_a  0.985441    -3.374633   \n",
       "485  2019-10-02_a  0.987291    -2.953241   \n",
       "486  2019-10-02_b  0.994739    -1.257385   \n",
       "487  2019-10-03_a  1.008751     1.933500   \n",
       "\n",
       "                                                  text  Category  \n",
       "483  It was my Great Honor to attend this mornings ...         0  \n",
       "484  Why isnt Congressman Adam Schiff being brought...         1  \n",
       "485  The Do Nothing Democrats should be focused on ...         1  \n",
       "486  The Greatest Witch Hunt in the history of our ...         1  \n",
       "487  Fake News just like the snakes and gators in t...         0  "
      ]
     },
     "execution_count": 761,
     "metadata": {},
     "output_type": "execute_result"
    }
   ],
   "source": [
    "MergedDf1.tail()"
   ]
  },
  {
   "cell_type": "markdown",
   "metadata": {},
   "source": [
    "### Bag of words"
   ]
  },
  {
   "cell_type": "code",
   "execution_count": 762,
   "metadata": {
    "collapsed": true
   },
   "outputs": [],
   "source": [
    "import gensim\n",
    "from gensim.utils import simple_preprocess\n",
    "from gensim.parsing.preprocessing import STOPWORDS\n",
    "from nltk.stem import WordNetLemmatizer, SnowballStemmer\n",
    "from nltk.stem.porter import *\n",
    "import numpy as np\n",
    "np.random.seed(2018)\n",
    "import nltk\n",
    "#nltk.download('wordnet')\n",
    "\n",
    "stemmer = nltk.stem.SnowballStemmer('english')\n",
    "#stemmer = nltk.stem.PorterStemmer()\n",
    "\n",
    "# 先词形还原再提取词干\n",
    "def lemmatize_stemming(text):\n",
    "    return stemmer.stem(WordNetLemmatizer().lemmatize(text, pos='v'))\n",
    "\n",
    "def preprocess(text, n):\n",
    "    result = []\n",
    "    for token in gensim.utils.simple_preprocess(text):   # convert document into tokens\n",
    "        if token not in gensim.parsing.preprocessing.STOPWORDS and len(token) > n:\n",
    "            result.append(lemmatize_stemming(token))\n",
    "    return ' '.join(result)\n"
   ]
  },
  {
   "cell_type": "code",
   "execution_count": 763,
   "metadata": {
    "collapsed": false
   },
   "outputs": [
    {
     "data": {
      "text/plain": [
       "488"
      ]
     },
     "execution_count": 763,
     "metadata": {},
     "output_type": "execute_result"
    }
   ],
   "source": [
    "len(MergedDf1)"
   ]
  },
  {
   "cell_type": "code",
   "execution_count": 764,
   "metadata": {
    "collapsed": false
   },
   "outputs": [
    {
     "data": {
      "text/plain": [
       "(0, 500)"
      ]
     },
     "execution_count": 764,
     "metadata": {},
     "output_type": "execute_result"
    },
    {
     "data": {
      "image/png": "[encoded data removed]",
      "text/plain": [
       "<matplotlib.figure.Figure at 0x186cd284240>"
      ]
     },
     "metadata": {},
     "output_type": "display_data"
    }
   ],
   "source": [
    "processed_docs = MergedDf1['text'].apply(lambda x: preprocess(x, 2))\n",
    "sss = processed_docs.apply(lambda x: len(x.split(' ')))  # split the text into words and count\n",
    "sss.hist(bins = 200)\n",
    "plt.xlim(0, 500)"
   ]
  },
  {
   "cell_type": "code",
   "execution_count": 765,
   "metadata": {
    "collapsed": true
   },
   "outputs": [],
   "source": [
    "# Convert processed notes to count vector\n",
    "from sklearn.feature_extraction.text import TfidfVectorizer, CountVectorizer\n",
    "from sklearn.decomposition import NMF, LatentDirichletAllocation\n",
    "\n",
    "Count_vectorizer = CountVectorizer(max_df=0.95, min_df=2,\n",
    "                                #max_features=4500,\n",
    "                                stop_words='english')\n",
    "\n",
    "cv = Count_vectorizer.fit_transform(processed_docs)"
   ]
  },
  {
   "cell_type": "code",
   "execution_count": 766,
   "metadata": {
    "collapsed": false
   },
   "outputs": [
    {
     "data": {
      "text/plain": [
       "(488, 2733)"
      ]
     },
     "execution_count": 766,
     "metadata": {},
     "output_type": "execute_result"
    }
   ],
   "source": [
    "cv_array = cv.toarray()\n",
    "cv_array.shape"
   ]
  },
  {
   "cell_type": "code",
   "execution_count": 767,
   "metadata": {
    "collapsed": false
   },
   "outputs": [
    {
     "name": "stdout",
     "output_type": "stream",
     "text": [
      "(488, 2733)\n",
      "(488,)\n"
     ]
    }
   ],
   "source": [
    "X = cv_array\n",
    "y = MergedDf1.Category\n",
    "\n",
    "print(X.shape)\n",
    "print(y.shape)"
   ]
  },
  {
   "cell_type": "code",
   "execution_count": 768,
   "metadata": {
    "collapsed": false
   },
   "outputs": [
    {
     "name": "stdout",
     "output_type": "stream",
     "text": [
      "(366, 2733)\n",
      "(122, 2733)\n",
      "(366,)\n",
      "(122,)\n"
     ]
    }
   ],
   "source": [
    "from sklearn.model_selection import train_test_split\n",
    "X_train, X_test, y_train, y_test = train_test_split(X, y, random_state=1)\n",
    "print(X_train.shape)\n",
    "print(X_test.shape)\n",
    "print(y_train.shape)\n",
    "print(y_test.shape)"
   ]
  },
  {
   "cell_type": "code",
   "execution_count": 769,
   "metadata": {
    "collapsed": false
   },
   "outputs": [
    {
     "data": {
      "text/html": [
       "<div>\n",
       "<style scoped>\n",
       "    .dataframe tbody tr th:only-of-type {\n",
       "        vertical-align: middle;\n",
       "    }\n",
       "\n",
       "    .dataframe tbody tr th {\n",
       "        vertical-align: top;\n",
       "    }\n",
       "\n",
       "    .dataframe thead th {\n",
       "        text-align: right;\n",
       "    }\n",
       "</style>\n",
       "<table border=\"1\" class=\"dataframe\">\n",
       "  <thead>\n",
       "    <tr style=\"text-align: right;\">\n",
       "      <th></th>\n",
       "      <th>abandon</th>\n",
       "      <th>abc</th>\n",
       "      <th>abe</th>\n",
       "      <th>abl</th>\n",
       "      <th>aboard</th>\n",
       "      <th>abort</th>\n",
       "      <th>abraham</th>\n",
       "      <th>abrupt</th>\n",
       "      <th>absolut</th>\n",
       "      <th>abus</th>\n",
       "      <th>...</th>\n",
       "      <th>yesterday</th>\n",
       "      <th>yield</th>\n",
       "      <th>york</th>\n",
       "      <th>young</th>\n",
       "      <th>youv</th>\n",
       "      <th>yuma</th>\n",
       "      <th>zealand</th>\n",
       "      <th>zero</th>\n",
       "      <th>zone</th>\n",
       "      <th>zte</th>\n",
       "    </tr>\n",
       "  </thead>\n",
       "  <tbody>\n",
       "    <tr>\n",
       "      <th>0</th>\n",
       "      <td>0</td>\n",
       "      <td>0</td>\n",
       "      <td>0</td>\n",
       "      <td>0</td>\n",
       "      <td>0</td>\n",
       "      <td>0</td>\n",
       "      <td>0</td>\n",
       "      <td>0</td>\n",
       "      <td>0</td>\n",
       "      <td>0</td>\n",
       "      <td>...</td>\n",
       "      <td>0</td>\n",
       "      <td>0</td>\n",
       "      <td>0</td>\n",
       "      <td>0</td>\n",
       "      <td>0</td>\n",
       "      <td>0</td>\n",
       "      <td>0</td>\n",
       "      <td>0</td>\n",
       "      <td>0</td>\n",
       "      <td>0</td>\n",
       "    </tr>\n",
       "    <tr>\n",
       "      <th>1</th>\n",
       "      <td>0</td>\n",
       "      <td>0</td>\n",
       "      <td>0</td>\n",
       "      <td>0</td>\n",
       "      <td>0</td>\n",
       "      <td>0</td>\n",
       "      <td>0</td>\n",
       "      <td>0</td>\n",
       "      <td>0</td>\n",
       "      <td>0</td>\n",
       "      <td>...</td>\n",
       "      <td>0</td>\n",
       "      <td>0</td>\n",
       "      <td>1</td>\n",
       "      <td>0</td>\n",
       "      <td>0</td>\n",
       "      <td>0</td>\n",
       "      <td>0</td>\n",
       "      <td>0</td>\n",
       "      <td>0</td>\n",
       "      <td>0</td>\n",
       "    </tr>\n",
       "    <tr>\n",
       "      <th>2</th>\n",
       "      <td>0</td>\n",
       "      <td>0</td>\n",
       "      <td>0</td>\n",
       "      <td>0</td>\n",
       "      <td>0</td>\n",
       "      <td>0</td>\n",
       "      <td>0</td>\n",
       "      <td>0</td>\n",
       "      <td>0</td>\n",
       "      <td>0</td>\n",
       "      <td>...</td>\n",
       "      <td>0</td>\n",
       "      <td>0</td>\n",
       "      <td>0</td>\n",
       "      <td>0</td>\n",
       "      <td>0</td>\n",
       "      <td>0</td>\n",
       "      <td>0</td>\n",
       "      <td>0</td>\n",
       "      <td>0</td>\n",
       "      <td>0</td>\n",
       "    </tr>\n",
       "    <tr>\n",
       "      <th>3</th>\n",
       "      <td>0</td>\n",
       "      <td>0</td>\n",
       "      <td>0</td>\n",
       "      <td>0</td>\n",
       "      <td>0</td>\n",
       "      <td>0</td>\n",
       "      <td>0</td>\n",
       "      <td>0</td>\n",
       "      <td>0</td>\n",
       "      <td>0</td>\n",
       "      <td>...</td>\n",
       "      <td>0</td>\n",
       "      <td>0</td>\n",
       "      <td>0</td>\n",
       "      <td>0</td>\n",
       "      <td>0</td>\n",
       "      <td>0</td>\n",
       "      <td>0</td>\n",
       "      <td>0</td>\n",
       "      <td>0</td>\n",
       "      <td>0</td>\n",
       "    </tr>\n",
       "    <tr>\n",
       "      <th>4</th>\n",
       "      <td>0</td>\n",
       "      <td>0</td>\n",
       "      <td>0</td>\n",
       "      <td>0</td>\n",
       "      <td>0</td>\n",
       "      <td>0</td>\n",
       "      <td>0</td>\n",
       "      <td>0</td>\n",
       "      <td>0</td>\n",
       "      <td>0</td>\n",
       "      <td>...</td>\n",
       "      <td>0</td>\n",
       "      <td>0</td>\n",
       "      <td>0</td>\n",
       "      <td>0</td>\n",
       "      <td>0</td>\n",
       "      <td>0</td>\n",
       "      <td>0</td>\n",
       "      <td>1</td>\n",
       "      <td>0</td>\n",
       "      <td>0</td>\n",
       "    </tr>\n",
       "  </tbody>\n",
       "</table>\n",
       "<p>5 rows × 2733 columns</p>\n",
       "</div>"
      ],
      "text/plain": [
       "   abandon  abc  abe  abl  aboard  abort  abraham  abrupt  absolut  abus  ...  \\\n",
       "0        0    0    0    0       0      0        0       0        0     0  ...   \n",
       "1        0    0    0    0       0      0        0       0        0     0  ...   \n",
       "2        0    0    0    0       0      0        0       0        0     0  ...   \n",
       "3        0    0    0    0       0      0        0       0        0     0  ...   \n",
       "4        0    0    0    0       0      0        0       0        0     0  ...   \n",
       "\n",
       "   yesterday  yield  york  young  youv  yuma  zealand  zero  zone  zte  \n",
       "0          0      0     0      0     0     0        0     0     0    0  \n",
       "1          0      0     1      0     0     0        0     0     0    0  \n",
       "2          0      0     0      0     0     0        0     0     0    0  \n",
       "3          0      0     0      0     0     0        0     0     0    0  \n",
       "4          0      0     0      0     0     0        0     1     0    0  \n",
       "\n",
       "[5 rows x 2733 columns]"
      ]
     },
     "execution_count": 769,
     "metadata": {},
     "output_type": "execute_result"
    }
   ],
   "source": [
    "#X_train_df = pd.DataFrame(X_train, columns=Count_vectorizer.get_feature_names())\n",
    "X_train_df = pd.DataFrame(X_train, columns=Count_vectorizer.get_feature_names())\n",
    "X_train_df.head()"
   ]
  },
  {
   "cell_type": "markdown",
   "metadata": {},
   "source": [
    "# PCA and Viz"
   ]
  },
  {
   "cell_type": "code",
   "execution_count": 770,
   "metadata": {
    "collapsed": true
   },
   "outputs": [],
   "source": [
    "from sklearn.decomposition import PCA\n",
    "import numpy as np\n",
    "pca = PCA(n_components=3)"
   ]
  },
  {
   "cell_type": "code",
   "execution_count": 771,
   "metadata": {
    "collapsed": false
   },
   "outputs": [
    {
     "name": "stdout",
     "output_type": "stream",
     "text": [
      "Visualization using PCA reduced dimensions. The 3 dimensions explained the following pct of variance.\n",
      "[19.09 22.77 26.  ]\n"
     ]
    }
   ],
   "source": [
    "X_reduced = pca.fit_transform(X_train)\n",
    "print (\"Visualization using PCA reduced dimensions. The 3 dimensions explained the following pct of variance.\")\n",
    "print (np.cumsum(np.round(pca.explained_variance_ratio_, decimals=4)*100))\n"
   ]
  },
  {
   "cell_type": "code",
   "execution_count": 772,
   "metadata": {
    "collapsed": false
   },
   "outputs": [
    {
     "data": {
      "image/png": "[encoded data removed]",
      "text/plain": [
       "<matplotlib.figure.Figure at 0x186cd171630>"
      ]
     },
     "metadata": {},
     "output_type": "display_data"
    }
   ],
   "source": [
    "import matplotlib\n",
    "from matplotlib import pyplot as plt\n",
    "colors = ['r','g','b']\n",
    "label = y_train.copy()\n",
    "label.reset_index(drop=True, inplace=True)\n",
    "\n",
    "plt.figure(figsize=(6,6),facecolor='white')\n",
    "for i in range(len(X_reduced)):\n",
    "    plt.plot(X_reduced[i][0], X_reduced[i][1],c=colors[label[i]],marker='o', markersize=4)\n",
    "plt.xlim(-5,15)\n",
    "plt.ylim(-10,15)\n",
    "plt.show()"
   ]
  },
  {
   "cell_type": "code",
   "execution_count": 773,
   "metadata": {
    "collapsed": false
   },
   "outputs": [
    {
     "data": {
      "text/plain": [
       "array([[0, 0, 0, ..., 0, 0, 0],\n",
       "       [0, 0, 0, ..., 0, 0, 0],\n",
       "       [0, 0, 0, ..., 0, 0, 0],\n",
       "       ...,\n",
       "       [0, 0, 0, ..., 0, 0, 0],\n",
       "       [0, 1, 0, ..., 0, 0, 0],\n",
       "       [0, 0, 0, ..., 0, 0, 0]], dtype=int64)"
      ]
     },
     "execution_count": 773,
     "metadata": {},
     "output_type": "execute_result"
    }
   ],
   "source": [
    "X_test"
   ]
  },
  {
   "cell_type": "code",
   "execution_count": 774,
   "metadata": {
    "collapsed": false
   },
   "outputs": [
    {
     "name": "stdout",
     "output_type": "stream",
     "text": [
      "Wall time: 15 ms\n"
     ]
    },
    {
     "data": {
      "text/plain": [
       "LogisticRegression(C=1.0, class_weight=None, dual=False, fit_intercept=True,\n",
       "                   intercept_scaling=1, l1_ratio=None, max_iter=100,\n",
       "                   multi_class='warn', n_jobs=None, penalty='l2',\n",
       "                   random_state=None, solver='warn', tol=0.0001, verbose=0,\n",
       "                   warm_start=False)"
      ]
     },
     "execution_count": 774,
     "metadata": {},
     "output_type": "execute_result"
    }
   ],
   "source": [
    "from sklearn.linear_model import LogisticRegression\n",
    "logreg = LogisticRegression()\n",
    "%time logreg.fit(X_train, y_train)"
   ]
  },
  {
   "cell_type": "code",
   "execution_count": 775,
   "metadata": {
    "collapsed": true
   },
   "outputs": [],
   "source": [
    "y_pred_class = logreg.predict(X_test)"
   ]
  },
  {
   "cell_type": "code",
   "execution_count": 776,
   "metadata": {
    "collapsed": false
   },
   "outputs": [],
   "source": [
    "y_pred_prob = logreg.predict_proba(X_test)[:, 1]"
   ]
  },
  {
   "cell_type": "code",
   "execution_count": 777,
   "metadata": {
    "collapsed": false
   },
   "outputs": [
    {
     "data": {
      "text/plain": [
       "0.5"
      ]
     },
     "execution_count": 777,
     "metadata": {},
     "output_type": "execute_result"
    }
   ],
   "source": [
    "from sklearn import metrics\n",
    "metrics.accuracy_score(y_test, y_pred_class)"
   ]
  },
  {
   "cell_type": "code",
   "execution_count": 778,
   "metadata": {
    "collapsed": false
   },
   "outputs": [],
   "source": [
    "TestRst = pd.DataFrame({'TrueLabel':y_test, 'PredictedLabel':y_pred_class}).reset_index()"
   ]
  },
  {
   "cell_type": "code",
   "execution_count": 779,
   "metadata": {
    "collapsed": false
   },
   "outputs": [
    {
     "data": {
      "text/html": [
       "<div>\n",
       "<style scoped>\n",
       "    .dataframe tbody tr th:only-of-type {\n",
       "        vertical-align: middle;\n",
       "    }\n",
       "\n",
       "    .dataframe tbody tr th {\n",
       "        vertical-align: top;\n",
       "    }\n",
       "\n",
       "    .dataframe thead tr th {\n",
       "        text-align: left;\n",
       "    }\n",
       "\n",
       "    .dataframe thead tr:last-of-type th {\n",
       "        text-align: right;\n",
       "    }\n",
       "</style>\n",
       "<table border=\"1\" class=\"dataframe\">\n",
       "  <thead>\n",
       "    <tr>\n",
       "      <th></th>\n",
       "      <th colspan=\"2\" halign=\"left\">index</th>\n",
       "    </tr>\n",
       "    <tr>\n",
       "      <th>PredictedLabel</th>\n",
       "      <th>0</th>\n",
       "      <th>1</th>\n",
       "    </tr>\n",
       "    <tr>\n",
       "      <th>TrueLabel</th>\n",
       "      <th></th>\n",
       "      <th></th>\n",
       "    </tr>\n",
       "  </thead>\n",
       "  <tbody>\n",
       "    <tr>\n",
       "      <th>0</th>\n",
       "      <td>41</td>\n",
       "      <td>36</td>\n",
       "    </tr>\n",
       "    <tr>\n",
       "      <th>1</th>\n",
       "      <td>25</td>\n",
       "      <td>20</td>\n",
       "    </tr>\n",
       "  </tbody>\n",
       "</table>\n",
       "</div>"
      ],
      "text/plain": [
       "               index    \n",
       "PredictedLabel     0   1\n",
       "TrueLabel               \n",
       "0                 41  36\n",
       "1                 25  20"
      ]
     },
     "execution_count": 779,
     "metadata": {},
     "output_type": "execute_result"
    }
   ],
   "source": [
    "TestRst.groupby(['TrueLabel','PredictedLabel']).count().unstack('PredictedLabel')"
   ]
  },
  {
   "cell_type": "markdown",
   "metadata": {},
   "source": [
    "### RandomForest"
   ]
  },
  {
   "cell_type": "code",
   "execution_count": 789,
   "metadata": {
    "collapsed": false
   },
   "outputs": [
    {
     "data": {
      "image/png": "[encoded data removed]",
      "text/plain": [
       "<matplotlib.figure.Figure at 0x186cd6b16d8>"
      ]
     },
     "metadata": {},
     "output_type": "display_data"
    },
    {
     "name": "stdout",
     "output_type": "stream",
     "text": [
      "accuracy:  0.639344262295082\n",
      "precision:  0.5135135135135135\n",
      "recall:  0.4222222222222222\n",
      "f1 score: 0.4634146341463415\n"
     ]
    }
   ],
   "source": [
    "from sklearn.ensemble import RandomForestClassifier\n",
    "import numpy as np\n",
    "\n",
    "Forest = RandomForestClassifier(n_estimators = 10, random_state = 1)\n",
    "Forest = Forest.fit(X_train, y_train)\n",
    "\n",
    "y_pred= Forest.predict(X_test)\n",
    "y_pred_Prob = Forest.predict_proba(X_test)\n",
    "plt.imshow(metrics.confusion_matrix(y_pred,y_test),\n",
    "           interpolation='nearest',cmap=plt.cm.binary)\n",
    "plt.colorbar()\n",
    "plt.xlabel(\"true label\")\n",
    "plt.ylabel(\"predicted label\")\n",
    "plt.show()\n",
    "\n",
    "print (\"accuracy: \",metrics.accuracy_score(y_test, y_pred))\n",
    "print (\"precision: \",metrics.precision_score(y_test,y_pred))\n",
    "print (\"recall: \",metrics.recall_score(y_test,y_pred))\n",
    "print (\"f1 score:\",metrics.f1_score(y_test,y_pred))"
   ]
  },
  {
   "cell_type": "code",
   "execution_count": 790,
   "metadata": {
    "collapsed": false
   },
   "outputs": [
    {
     "data": {
      "text/plain": [
       "0.639344262295082"
      ]
     },
     "execution_count": 790,
     "metadata": {},
     "output_type": "execute_result"
    }
   ],
   "source": [
    "metrics.accuracy_score(y_test, y_pred)"
   ]
  },
  {
   "cell_type": "code",
   "execution_count": 791,
   "metadata": {
    "collapsed": false
   },
   "outputs": [
    {
     "data": {
      "text/html": [
       "<div>\n",
       "<style scoped>\n",
       "    .dataframe tbody tr th:only-of-type {\n",
       "        vertical-align: middle;\n",
       "    }\n",
       "\n",
       "    .dataframe tbody tr th {\n",
       "        vertical-align: top;\n",
       "    }\n",
       "\n",
       "    .dataframe thead tr th {\n",
       "        text-align: left;\n",
       "    }\n",
       "\n",
       "    .dataframe thead tr:last-of-type th {\n",
       "        text-align: right;\n",
       "    }\n",
       "</style>\n",
       "<table border=\"1\" class=\"dataframe\">\n",
       "  <thead>\n",
       "    <tr>\n",
       "      <th></th>\n",
       "      <th colspan=\"2\" halign=\"left\">index</th>\n",
       "    </tr>\n",
       "    <tr>\n",
       "      <th>PredictedLabel</th>\n",
       "      <th>0</th>\n",
       "      <th>1</th>\n",
       "    </tr>\n",
       "    <tr>\n",
       "      <th>TrueLabel</th>\n",
       "      <th></th>\n",
       "      <th></th>\n",
       "    </tr>\n",
       "  </thead>\n",
       "  <tbody>\n",
       "    <tr>\n",
       "      <th>0</th>\n",
       "      <td>59</td>\n",
       "      <td>18</td>\n",
       "    </tr>\n",
       "    <tr>\n",
       "      <th>1</th>\n",
       "      <td>26</td>\n",
       "      <td>19</td>\n",
       "    </tr>\n",
       "  </tbody>\n",
       "</table>\n",
       "</div>"
      ],
      "text/plain": [
       "               index    \n",
       "PredictedLabel     0   1\n",
       "TrueLabel               \n",
       "0                 59  18\n",
       "1                 26  19"
      ]
     },
     "execution_count": 791,
     "metadata": {},
     "output_type": "execute_result"
    }
   ],
   "source": [
    "TestRst = pd.DataFrame({'TrueLabel':y_test, 'PredictedLabel':y_pred}).reset_index()\n",
    "TestRst.groupby(['TrueLabel','PredictedLabel']).count().unstack('PredictedLabel')"
   ]
  },
  {
   "cell_type": "code",
   "execution_count": 783,
   "metadata": {
    "collapsed": false
   },
   "outputs": [
    {
     "data": {
      "text/plain": [
       "thank         0.008127\n",
       "tax           0.006840\n",
       "peopl         0.006570\n",
       "job           0.005707\n",
       "great         0.005033\n",
       "border        0.004561\n",
       "media         0.004499\n",
       "long          0.004403\n",
       "amp           0.004125\n",
       "amaz          0.004036\n",
       "chang         0.003954\n",
       "democrat      0.003771\n",
       "deal          0.003730\n",
       "presid        0.003634\n",
       "work          0.003598\n",
       "good          0.003530\n",
       "wall          0.003301\n",
       "year          0.003296\n",
       "state         0.003295\n",
       "leadership    0.003264\n",
       "time          0.003254\n",
       "congratul     0.003202\n",
       "big           0.003181\n",
       "secur         0.003175\n",
       "trump         0.003116\n",
       "love          0.003113\n",
       "american      0.003032\n",
       "nation        0.002981\n",
       "countri       0.002977\n",
       "usa           0.002952\n",
       "                ...   \n",
       "throw         0.000000\n",
       "deadlin       0.000000\n",
       "thunder       0.000000\n",
       "deputi        0.000000\n",
       "theme         0.000000\n",
       "describ       0.000000\n",
       "disastr       0.000000\n",
       "room          0.000000\n",
       "maker         0.000000\n",
       "disput        0.000000\n",
       "disparag      0.000000\n",
       "disinform     0.000000\n",
       "dishonesti    0.000000\n",
       "ronald        0.000000\n",
       "roll          0.000000\n",
       "mandat        0.000000\n",
       "disclos       0.000000\n",
       "dirt          0.000000\n",
       "deserv        0.000000\n",
       "role          0.000000\n",
       "marc          0.000000\n",
       "territori     0.000000\n",
       "roger         0.000000\n",
       "mari          0.000000\n",
       "devic         0.000000\n",
       "mario         0.000000\n",
       "detent        0.000000\n",
       "martha        0.000000\n",
       "rocki         0.000000\n",
       "program       0.000000\n",
       "Length: 2733, dtype: float64"
      ]
     },
     "execution_count": 783,
     "metadata": {},
     "output_type": "execute_result"
    }
   ],
   "source": [
    "Importance = pd.Series(Forest.feature_importances_, index= Count_vectorizer.get_feature_names())\n",
    "Importance = pd.Series.sort_values(Importance, ascending=False)\n",
    "Importance"
   ]
  },
  {
   "cell_type": "markdown",
   "metadata": {},
   "source": [
    "### Optimize iter"
   ]
  },
  {
   "cell_type": "code",
   "execution_count": 784,
   "metadata": {
    "collapsed": true
   },
   "outputs": [],
   "source": [
    "def Optmz(iter):\n",
    "    Forest = RandomForestClassifier(n_estimators = iter, random_state = 1)\n",
    "    Forest = Forest.fit(X_train, y_train)\n",
    "    y_pred= Forest.predict(X_test)\n",
    "    accuracy = metrics.accuracy_score(y_test, y_pred)\n",
    "    f1 = metrics.f1_score(y_test,y_pred)\n",
    "    \n",
    "    return [iter, accuracy, f1]"
   ]
  },
  {
   "cell_type": "code",
   "execution_count": 785,
   "metadata": {
    "collapsed": false
   },
   "outputs": [],
   "source": [
    "RstList = []\n",
    "for iter in range(10,300, 10):\n",
    "    Rst = Optmz(iter)\n",
    "    RstList.append(Rst)"
   ]
  },
  {
   "cell_type": "code",
   "execution_count": 786,
   "metadata": {
    "collapsed": true
   },
   "outputs": [],
   "source": [
    "RstDf = pd.DataFrame(RstList, columns = ['Iter','Accuracy','f1'])"
   ]
  },
  {
   "cell_type": "code",
   "execution_count": 787,
   "metadata": {
    "collapsed": false
   },
   "outputs": [
    {
     "data": {
      "text/html": [
       "<div>\n",
       "<style scoped>\n",
       "    .dataframe tbody tr th:only-of-type {\n",
       "        vertical-align: middle;\n",
       "    }\n",
       "\n",
       "    .dataframe tbody tr th {\n",
       "        vertical-align: top;\n",
       "    }\n",
       "\n",
       "    .dataframe thead th {\n",
       "        text-align: right;\n",
       "    }\n",
       "</style>\n",
       "<table border=\"1\" class=\"dataframe\">\n",
       "  <thead>\n",
       "    <tr style=\"text-align: right;\">\n",
       "      <th></th>\n",
       "      <th>Iter</th>\n",
       "      <th>Accuracy</th>\n",
       "      <th>f1</th>\n",
       "    </tr>\n",
       "  </thead>\n",
       "  <tbody>\n",
       "    <tr>\n",
       "      <th>0</th>\n",
       "      <td>10</td>\n",
       "      <td>0.639344</td>\n",
       "      <td>0.463415</td>\n",
       "    </tr>\n",
       "    <tr>\n",
       "      <th>1</th>\n",
       "      <td>20</td>\n",
       "      <td>0.622951</td>\n",
       "      <td>0.361111</td>\n",
       "    </tr>\n",
       "    <tr>\n",
       "      <th>7</th>\n",
       "      <td>80</td>\n",
       "      <td>0.606557</td>\n",
       "      <td>0.384615</td>\n",
       "    </tr>\n",
       "    <tr>\n",
       "      <th>12</th>\n",
       "      <td>130</td>\n",
       "      <td>0.606557</td>\n",
       "      <td>0.400000</td>\n",
       "    </tr>\n",
       "    <tr>\n",
       "      <th>13</th>\n",
       "      <td>140</td>\n",
       "      <td>0.606557</td>\n",
       "      <td>0.400000</td>\n",
       "    </tr>\n",
       "  </tbody>\n",
       "</table>\n",
       "</div>"
      ],
      "text/plain": [
       "    Iter  Accuracy        f1\n",
       "0     10  0.639344  0.463415\n",
       "1     20  0.622951  0.361111\n",
       "7     80  0.606557  0.384615\n",
       "12   130  0.606557  0.400000\n",
       "13   140  0.606557  0.400000"
      ]
     },
     "execution_count": 787,
     "metadata": {},
     "output_type": "execute_result"
    }
   ],
   "source": [
    "RstDf[RstDf['Accuracy']>0.6]"
   ]
  },
  {
   "cell_type": "code",
   "execution_count": 788,
   "metadata": {
    "collapsed": true
   },
   "outputs": [],
   "source": [
    "?RandomForestClassifier"
   ]
  },
  {
   "cell_type": "code",
   "execution_count": null,
   "metadata": {
    "collapsed": true
   },
   "outputs": [],
   "source": []
  }
 ],
 "metadata": {
  "anaconda-cloud": {},
  "kernelspec": {
   "display_name": "Python [default]",
   "language": "python",
   "name": "python3"
  },
  "language_info": {
   "codemirror_mode": {
    "name": "ipython",
    "version": 3
   },
   "file_extension": ".py",
   "mimetype": "text/x-python",
   "name": "python",
   "nbconvert_exporter": "python",
   "pygments_lexer": "ipython3",
   "version": "3.5.6"
  }
 },
 "nbformat": 4,
 "nbformat_minor": 2
}
